{
 "cells": [
  {
   "attachments": {},
   "cell_type": "markdown",
   "metadata": {},
   "source": [
    "# EDA on Data for Academic Interns in UC Berkeley's CS61A Course"
   ]
  },
  {
   "attachments": {},
   "cell_type": "markdown",
   "metadata": {},
   "source": [
    "## Imports"
   ]
  },
  {
   "cell_type": "code",
   "execution_count": null,
   "metadata": {},
   "outputs": [],
   "source": [
    "# necessary imports\n",
    "import pandas as pd\n",
    "from matplotlib import pyplot as plt\n",
    "import seaborn as sns\n",
    "import re"
   ]
  },
  {
   "attachments": {},
   "cell_type": "markdown",
   "metadata": {},
   "source": [
    "## EDA and Preprocessing"
   ]
  },
  {
   "attachments": {},
   "cell_type": "markdown",
   "metadata": {},
   "source": [
    "I start by reading in the scraped data into a pandas DataFrame."
   ]
  },
  {
   "cell_type": "code",
   "execution_count": null,
   "metadata": {},
   "outputs": [],
   "source": [
    "ai_61a_df = pd.read_csv(\"ai_61a_data.csv\")\n",
    "ai_61a_df.head()"
   ]
  },
  {
   "attachments": {},
   "cell_type": "markdown",
   "metadata": {},
   "source": [
    "Next, I want a quick overview of the DataFrame."
   ]
  },
  {
   "cell_type": "code",
   "execution_count": null,
   "metadata": {},
   "outputs": [],
   "source": [
    "ai_61a_df.describe()"
   ]
  },
  {
   "attachments": {},
   "cell_type": "markdown",
   "metadata": {},
   "source": [
    "Confirming the $6$ unique semesters and the number of AIs hired:"
   ]
  },
  {
   "cell_type": "code",
   "execution_count": null,
   "metadata": {},
   "outputs": [],
   "source": [
    "ai_61a_df['semester'].value_counts()"
   ]
  },
  {
   "attachments": {},
   "cell_type": "markdown",
   "metadata": {},
   "source": [
    "It looks good, it matches the data that I have in `scraper.ipynb`. Something interesting is that for the most part, the number of AIs recruited each semester seems to be increasing, except for the slight dip from `fa22`'s $152$ AIs to `sp23`'s $130$. But thinking more about this, I'm not sure why there would be a decrease. I graduated in Fall of 2022, and I know during that semester a strike occurred that was largely organized by CS students to demand for more funding so that more people could be hired. From the plethora of strike status update emails I received, I recall that the strike was *somewhat* successful and the graduate and undergraduate students received slightly better pay and more benefits, so how did AI hiring numbers go down?\n",
    "\n",
    "My assumption is maybe that since AIs are *not paid*, it doesn't matter if funding increased or not, the number of opportunities should stay roughly the same. Maybe, since there was a pay increase, the department was able to hire more *tutors* and *TAs* (the roles that are higher in the pyramid than AIs), and so the course didn't have to hire as many AIs. But at the same time, I don't see a reason not to hire *more* AIs. Office Hour queues are an absolute nightmare, especially during project weeks, so more AIs would only help... right?\n",
    "\n",
    "On a second thought, I'm not entirely sure if 61A AIs help with projects; I think the policy changes each semester depending on the professor and the AI Coordinator. I know 61B AIs definitely help with projects (Gitlet and Enigma... never again, thank god Hilfinger retired). Regardless, it seems like my initial theories here are inconclusive and I'll need to physically go back and see to get an answer.\n"
   ]
  },
  {
   "attachments": {},
   "cell_type": "markdown",
   "metadata": {},
   "source": [
    "Going back to the overiew, assuming everyone has a name, there were a total of $643$ AIs scraped from the $6$ semesters of AI pages for CS61A. $637$ of them are unique, meaning some were rehired. This is very interesting, since I had a friend tell me that 61A AIs are *very rarely rehired*. Looking at the `freq` row from the results of `describe()`, it seems like no one was rehired for more than $2$ semesters, once again reinforcing my friend's claims. Now I'm curious to see how who rehired:"
   ]
  },
  {
   "cell_type": "code",
   "execution_count": null,
   "metadata": {},
   "outputs": [],
   "source": [
    "# Checking who got rehired for more than one semester\n",
    "ai_61a_df['name'].value_counts().head(10)"
   ]
  },
  {
   "attachments": {},
   "cell_type": "markdown",
   "metadata": {},
   "source": [
    "Ok Justin Zhang, Matthew Ybarra, Andrew Wang, Bryan Li, Andy Chen, and Wonjae Lee. The big brain ones I see...\n",
    "\n",
    "Wait, Wonjae Lee! I remember imputing his pronouns during data scraping, and I had to assume his gender. Let's check if I got his pronouns correct:"
   ]
  },
  {
   "cell_type": "code",
   "execution_count": null,
   "metadata": {},
   "outputs": [],
   "source": [
    "# Filter for Wonjae Lee\n",
    "ai_61a_df[ai_61a_df['name']=='Wonjae Lee']"
   ]
  },
  {
   "attachments": {},
   "cell_type": "markdown",
   "metadata": {},
   "source": [
    "I imputed his `fa21` pronouns, and it seems I did assume correctly since his `sp21` are the same as my imputed values. It also seems like the rehire occured in consecutive semesters, let's see if that is also the case for the other $5$ rehired AIs."
   ]
  },
  {
   "cell_type": "code",
   "execution_count": null,
   "metadata": {},
   "outputs": [],
   "source": [
    "# Filter is going to look really ugly, but it is what it is\n",
    "ai_61a_df[(ai_61a_df['name']=='Justin Zhang') | (ai_61a_df['name']=='Matthew Ybarra') | (ai_61a_df['name']=='Andrew Wang') |\n",
    "          (ai_61a_df['name']=='Bryan Li') | (ai_61a_df['name']=='Andy Chen')].sort_values('name')"
   ]
  },
  {
   "attachments": {},
   "cell_type": "markdown",
   "metadata": {},
   "source": [
    "Very interesting. Like Wonjae, everyone else seems to be a rehire *except* for Bryan Li. From reading their bios, the numbers don't add up, as one was a freshman in `sp23` and the other was a sophomore in `fa21`, not to mention their majors are completely different. Unfortunately there's no unique identifier that I could scrape from the AI pages, so issues like these will occur regardless. Nevertheless, this shouldn't negatively affect the question I'm trying to answer.\n",
    "\n",
    "Admittedly, looking at this makes me a bit salty. I was a 61A AI in Fall of 2021, but was not rehired for Spring of 2022.\n",
    "\n",
    "Proof:"
   ]
  },
  {
   "cell_type": "code",
   "execution_count": null,
   "metadata": {},
   "outputs": [],
   "source": [
    "ai_61a_df[ai_61a_df['name']== 'Daniel Huang']"
   ]
  },
  {
   "attachments": {},
   "cell_type": "markdown",
   "metadata": {},
   "source": [
    "Whatever, I'm on to greener pastures (sorta)."
   ]
  },
  {
   "attachments": {},
   "cell_type": "markdown",
   "metadata": {},
   "source": [
    "\n",
    "Returning to the overview, I see that there are $626$ listed pronouns, meaning the DataFrame missing $643-626=17$ pronoun entries. Let's confirm that:"
   ]
  },
  {
   "cell_type": "code",
   "execution_count": null,
   "metadata": {},
   "outputs": [],
   "source": [
    "print(\"Num Empty Pronouns: {}\".format(sum(ai_61a_df['pronoun'].isna())))"
   ]
  },
  {
   "attachments": {},
   "cell_type": "markdown",
   "metadata": {},
   "source": [
    "Pronouns are ultimately what I will be using to determine gender, which is the crux of this project's question. Taking a closer look at these $17$ entries:"
   ]
  },
  {
   "cell_type": "code",
   "execution_count": null,
   "metadata": {},
   "outputs": [],
   "source": [
    "ai_61a_df[ai_61a_df['pronoun'].isna()]"
   ]
  },
  {
   "attachments": {},
   "cell_type": "markdown",
   "metadata": {},
   "source": [
    "I could try to manually input pronouns for these entries by looking at their name, reading their bio, and looking up their photo in their corresponding semester's AI page. $17$ entries however is roughly only $3\\%$ of my total data, I think I'm fine with losing $3\\%$ of my data and not having to assume someone's gender. I perform the null removal in the following cell:"
   ]
  },
  {
   "cell_type": "code",
   "execution_count": null,
   "metadata": {},
   "outputs": [],
   "source": [
    "# remove rows with null pronouns\n",
    "ai_61a_df = ai_61a_df[~ai_61a_df['pronoun'].isna()]\n",
    "\n",
    "# check removal\n",
    "ai_61a_df.describe()"
   ]
  },
  {
   "attachments": {},
   "cell_type": "markdown",
   "metadata": {},
   "source": [
    "Removal looks successful. I want to conduct some more exploration, like determining the proportion of male to female AIs and seeing how the proportion changes when grouped by semester. But to do all this I'm going to have to move on to feature engineering."
   ]
  },
  {
   "attachments": {},
   "cell_type": "markdown",
   "metadata": {},
   "source": [
    "## Feature Engineering and Analysis"
   ]
  },
  {
   "attachments": {},
   "cell_type": "markdown",
   "metadata": {},
   "source": [
    "I want to start creating a new feature `gender` with my `pronoun` column, more specifically, I'm going to create a mapping:\n",
    "* 'he/him/his' -> 'male'\n",
    "* 'she/her/hers' -> 'female'\n",
    "* everything else -> 'other'\n",
    "\n",
    "But to perform the third mapping, I'm going to have to see what \"everything else\" consists of:"
   ]
  },
  {
   "cell_type": "code",
   "execution_count": null,
   "metadata": {},
   "outputs": [],
   "source": [
    "# Filter for pronouns falling under \"everything else\"\n",
    "ai_61a_df[~((ai_61a_df['pronoun']=='he/him/his') | (ai_61a_df['pronoun']=='she/her/hers'))]"
   ]
  },
  {
   "attachments": {},
   "cell_type": "markdown",
   "metadata": {},
   "source": [
    "I see comrade makes a return...\n",
    "\n",
    "On second thought, there are only $7$ entries here (I might've unintentionally created a diversity indicator for AIs in Berkeley's CS department...); there shouldn't be a harm in removing them. At the end of the day, my question doesn't really concern this subset of people, so their data wouldn't have been used either way. I proceed to remove them:"
   ]
  },
  {
   "cell_type": "code",
   "execution_count": null,
   "metadata": {},
   "outputs": [],
   "source": [
    "# Remove rows with non-binary pronouns\n",
    "ai_61a_df = ai_61a_df[(ai_61a_df['pronoun']=='he/him/his') | (ai_61a_df['pronoun']=='she/her/hers')]"
   ]
  },
  {
   "attachments": {},
   "cell_type": "markdown",
   "metadata": {},
   "source": [
    "Removal looks successful, $626-7=619$. Now, time to proceed to the mapping. To do so, I use a dictionary with my desired mapping and the pandas function [`pandas.Series.map`](https://pandas.pydata.org/docs/reference/api/pandas.Series.map.html).\n",
    "\n",
    "At the end of the day, this change is just changing one set of strings to another set of strings, the data type doesn't even change. I'm still going to do it though. Personally, it's just easier for me to work with my data this way."
   ]
  },
  {
   "cell_type": "code",
   "execution_count": null,
   "metadata": {},
   "outputs": [],
   "source": [
    "# Establish mapping\n",
    "pronoun_to_gender_dict = {\"he/him/his\":\"male\", \"she/her/hers\": \"female\"}\n",
    "\n",
    "# perform replacement\n",
    "ai_61a_df['gender'] = ai_61a_df['pronoun'].map(pronoun_to_gender_dict)\n",
    "ai_61a_df"
   ]
  },
  {
   "attachments": {},
   "cell_type": "markdown",
   "metadata": {},
   "source": [
    "With this new feature added, I can take a look at the proportion of male to female students and compute the percentage difference using a formula from this [site](https://www.omnicalculator.com/math/percentage-difference). Additionally, I decided to use [`seaborn.barplot`](https://seaborn.pydata.org/generated/seaborn.barplot.html) to help with visualization."
   ]
  },
  {
   "cell_type": "code",
   "execution_count": null,
   "metadata": {},
   "outputs": [],
   "source": [
    "# Python function that takes in a DataFrame and a binary group label\n",
    "# Will print the count proportion of each group, compute and print the\n",
    "# percentage difference between the two values, and display a barplot visualization\n",
    "# Returns a tuple containing the group proportions in alphabetical order and the percent diff\n",
    "# Example: if `binary_group=gender`, then the 0th element is `female` proportion\n",
    "# and the 1st element would be `male` proportion, and third element is percent diff\n",
    "def compute_proportion_and_visualize(df, binary_group):\n",
    "\n",
    "    # Helper function to compute percentage difference with formula from:\n",
    "    # https://www.omnicalculator.com/math/percentage-difference\n",
    "    # Takes in a x and y and calculates the percentage difference of those two values\n",
    "    def percent_difference(x, y):\n",
    "        percent_diff = abs(x - y) / ((x + y)/2)*100\n",
    "        return percent_diff\n",
    "\n",
    "    \n",
    "    # compute proportions and display thereof\n",
    "    binary_group_series = df.groupby(binary_group).size()\n",
    "    group_0_proportion = binary_group_series.values[0]/sum(binary_group_series.values)\n",
    "    group_1_proportion = binary_group_series.values[1]/sum(binary_group_series.values)\n",
    "    print(\"{} proportion: {:.2f}\".format(binary_group_series.index[0], group_0_proportion))\n",
    "    print(\"{} proportion: {:.2f}\".format(binary_group_series.index[1], group_1_proportion))\n",
    "\n",
    "    # call helper percent_difference to display percentage difference\n",
    "    percent_diff = percent_difference(group_0_proportion, group_1_proportion)\n",
    "    print(\"percentage difference: {:.0f}%\".format(percent_diff))\n",
    "\n",
    "    # visualize with seaborn.barplot\n",
    "    plt.title('Barplot of {} Counts'.format(binary_group_series.index.name))\n",
    "    sns.barplot(x=binary_group_series.index, y=binary_group_series.values)\n",
    "    plt.ylabel('Count')\n",
    "    plt.show()\n",
    "\n",
    "    # return the tuple of group proportions\n",
    "    return (group_0_proportion, group_1_proportion, percent_diff)"
   ]
  },
  {
   "cell_type": "code",
   "execution_count": null,
   "metadata": {},
   "outputs": [],
   "source": [
    "# Call compute_proportion_and_visualize\n",
    "overall_female_proportion, overall_male_proportion, overall_percent_diff = compute_proportion_and_visualize(ai_61a_df, 'gender')"
   ]
  },
  {
   "attachments": {},
   "cell_type": "markdown",
   "metadata": {},
   "source": [
    "Well then, if this isn't already pretty clear. There is clearly a higher proportion of male to female AIs in CS61A. A proportion of $0.37$ females to $0.63$, resulting in a percentage difference of $51\\%$.\n",
    "\n",
    "I want to see how this data will change when grouped by semester, `sem`. Has the percetage difference changed over the semesters, or has it largely stayed the same? To answer the chronological aspect of this question, I will use a manually ordered list of available semesters:\n",
    "\n",
    "`sem_list = ['sp21', 'fa21', 'sp22', 'su22', 'fa22', 'sp23']`"
   ]
  },
  {
   "cell_type": "code",
   "execution_count": null,
   "metadata": {},
   "outputs": [],
   "source": [
    "# instantiate chronologically correct semester list\n",
    "sem_list = ['sp21', 'fa21', 'sp22', 'su22', 'fa22', 'sp23']\n",
    "\n",
    "# Python function that takes in a pandas DataFrame `df`, the name of the filter `filter_feature`\n",
    "# a list of all the possible filters `filter_list`, and lastly a binary_group to past into \n",
    "# `compute_proportion_and_visualize`. This previously implemented function is called on each\n",
    "# filter group with the passed in `binary_group`\n",
    "# Returns a list containing the tuples of each proportion pair. Number of pairs is dependent on\n",
    "# the number of filter_groups in filter_list.\n",
    "def bar_analysis_summary(df, filter_feature, filter_list, binary_group):\n",
    "\n",
    "    # instantiate list to append to\n",
    "    proportion_pair_list = []\n",
    "    \n",
    "    # loop through each filter group\n",
    "    for filter_group in filter_list:\n",
    "        curr_df = df[df[filter_feature]==filter_group] # filter for the current filter group in the loop\n",
    "        \n",
    "        # print time of current filter group\n",
    "        print(\"time: {}\".format(filter_group))\n",
    "        \n",
    "        # call `compute_proportion_and_visualize` on curr_df and save the tuple\n",
    "        curr_tuple = compute_proportion_and_visualize(curr_df, binary_group)\n",
    "\n",
    "        # append curr_tuple to list\n",
    "        proportion_pair_list.append(curr_tuple)\n",
    "        print('-----------------------\\n') # formatting\n",
    "\n",
    "    # return final list\n",
    "    return proportion_pair_list"
   ]
  },
  {
   "cell_type": "code",
   "execution_count": null,
   "metadata": {},
   "outputs": [],
   "source": [
    "# Call bar_analysis\n",
    "sem_gender_proportion_tuple_list = bar_analysis_summary(ai_61a_df, 'semester', sem_list, 'gender')"
   ]
  },
  {
   "attachments": {},
   "cell_type": "markdown",
   "metadata": {},
   "source": [
    "Interesting. It is clearly the case the proportion of male AIs have always been greater than that of female AIs. Since I'm dealing with time, I want to visualize with a [lineplot](https://matplotlib.org/stable/api/_as_gen/matplotlib.pyplot.plot.html). I want to see how each proportion and the percentage difference has changed over time.\n",
    "\n",
    "To do this though I need to somehow convert my semester values in `sem_list` into a scalar, since lineplots cannot take in non-scalar values. To do so, I propose the following mapping:\n",
    "\n",
    "`['sp21', 'fa21', 'sp22', 'su22', 'fa22', 'sp23']` -> `[0, 1, 2, 3, 4, 5]`\n",
    "\n",
    "Simple, but it should work."
   ]
  },
  {
   "cell_type": "code",
   "execution_count": null,
   "metadata": {},
   "outputs": [],
   "source": [
    "scalar_sem_list = [0, 1, 2, 3, 4, 5]\n",
    "\n",
    "# Function that displays a lineplot of change in proportion and percentage diff\n",
    "# of a binary_group in df. df and binary_group are passed in for display header purposes\n",
    "# it's needed to properly format title and labels\n",
    "def chrono_analysis(df, binary_group, proportion_tuple_list, time):\n",
    "    # get proper labels\n",
    "    binary_group_series = df.groupby(binary_group).size()\n",
    "    group_0_label = binary_group_series.index[0]\n",
    "    group_1_label = binary_group_series.index[1]\n",
    "\n",
    "    # instantiate empty lists to store data for plotting\n",
    "    chrono_group_0 = []\n",
    "    chrono_group_1 = []\n",
    "    chrono_proportion_diff = []\n",
    "\n",
    "    for tuple in proportion_tuple_list:\n",
    "        ### tuple structure: ###\n",
    "        # 0: group 0 proportion\n",
    "        # 1: group 1 proportion\n",
    "        # 2: percentage difference\n",
    "\n",
    "        # append the data as a list pair to the previously instantiated lists\n",
    "        chrono_group_0.append(tuple[0]) # group 0 proportions\n",
    "        chrono_group_1.append(tuple[1]) # group 1 proportions\n",
    "        chrono_proportion_diff.append(tuple[2]/100) # percentages, divide by 100 to get proportion\n",
    "\n",
    "    # # all data properly created, plot\n",
    "    plt.title(\"Proportion and Proportion Difference in {} Over Time\".format(binary_group_series.index.name))\n",
    "    plt.plot(time, chrono_group_0, color='red', label=group_0_label)\n",
    "    plt.plot(chrono_group_1, color='blue', label=group_1_label)\n",
    "    plt.plot(chrono_proportion_diff, color='green', label='difference')\n",
    "    #plt.grid()\n",
    "    plt.legend()\n",
    "    plt.xlabel('Time')\n",
    "    plt.ylabel('Proportion')\n",
    "    plt.ylim(bottom=0) # want to show origin point\n",
    "    plt.show()    "
   ]
  },
  {
   "cell_type": "code",
   "execution_count": null,
   "metadata": {},
   "outputs": [],
   "source": [
    "# call chrono_analysis\n",
    "chrono_analysis(ai_61a_df, 'gender', sem_gender_proportion_tuple_list, scalar_sem_list)"
   ]
  },
  {
   "attachments": {},
   "cell_type": "markdown",
   "metadata": {},
   "source": [
    "From the plot, it appears that gender diversity has largely stayed stagnant, if not gotten worse, in recent semesters. There was a slight dip in difference proportion at time $4$, Fall 2022 semester, but the male AI proportion quickly bounced back in the most recent semester, Spring 2023.\n",
    "\n",
    "How do you increase women representation in CS? I'm sure this is a complex problem, and I don't think I know nearly enough about it to warrant an educated opinion. I guess there's a reason why there are programs and scholarships more widely available for women stem.\n",
    "\n",
    "Regardless, finally moving on to my main question."
   ]
  },
  {
   "attachments": {},
   "cell_type": "markdown",
   "metadata": {},
   "source": [
    "## Feature Engineering and Analysis (Main Question)"
   ]
  },
  {
   "attachments": {},
   "cell_type": "markdown",
   "metadata": {},
   "source": [
    "### Project Motivations and Hypothesis"
   ]
  },
  {
   "attachments": {},
   "cell_type": "markdown",
   "metadata": {},
   "source": [
    "Over the years, with my various interactions with my fellow peers and students, I've come to notice that women are more likely to send messages in *all lowercase*. Why does this happen? My personal theory is as follows:\n",
    "\n",
    "Women write in all lowercase because:\n",
    "\n",
    "1. Gives off cute e-girl doki-doki uwu vibe\n",
    "2. Relays a feeling of gentleness, giving them a *softer* tone, ultimately making them seem more approachable and nice\n",
    "\n",
    "I've share this observation of mine with some friends, some have agreed but some also claim to not have noticed or don't think that's the case; hence born the motivation for this project. I want to show that from just the CS61A AI page alone, the girl AIs are more likely to use lowercase to communicate than the guys.\n",
    "\n",
    "But the page is in an academic setting, and writing messages in an **all** lowercase form is very rare. No, this is not an excuse for me to fall back on in case my theory fails. The reason why it's rare is because classes are often capitalized, like CS61A. Immediately this would destroy the *all* quantifier of my statement. In addition, majors names are often capitalized or abbreviated with their initials, like CS and EECS. Thus, to actually make this project worth the effort I've put in so far, I want to propose a modified version of the previous statement, presented in the form of a hypothesis:\n",
    "\n",
    "**Hypothesis:** Women are more likely to *not use* proper case in messages than their male counterparts.\n",
    "\n",
    "There's a change in diction here, *lowercase* vs *proper case*. In a way this kind of changes the argument, but I would argue they manifest in the same way. Outside of proper nouns and abbreviations, capital letters are only ever used at the beginning of a sentence, so commonly after a period. Thus, my hypothesis is saying that since women are more likely to use lowercase, they are also less liekly to be using proper case.\n",
    "\n",
    "So how would I test for this? I do not know of any traditional method that I have learned in school that would do this, maybe because a question such as this probably really isn't even worth answering since it provides no benefit to society. A/B testing? Modeling? None of these apply. Machine learning to determine message patterns in women vs men, yeah definitely possible and probably the better way to approach this project, but that's beyond my knowledge and probably not worth the effort (like I said, zero benefit to society).\n",
    "\n",
    "So I'm just going to approach tackle this question my own way. By no means is this going to be a definitive, undisputable answer, it's just going to be evidence that may or may not lean towards my hypothesis. With that said, I am going to extrapolate, or technically in this case feature engineer, the *letter case percentage composition* of all the AIs I have scraped from CS61A.\n",
    "\n",
    "What is *letter case percentage composition*? I made it up. Previously, I was thinking of just calling the percentage of lowercase letters in women's messages, but that is just way to verbose and it doesn't sound smart. So I racked what little passion I have for chemistry left (passionate in highschool, now the subject is dead to me) and looked to [wikipedia for inspiration](https://en.wikipedia.org/wiki/Letter_case) and arrived at this term. Thus, its formal definition:\n",
    "\n",
    "**letter case percentage composition**\n",
    "\n",
    "*noun*\n",
    "\n",
    "1. in the context of a message, the manner of being composed; makeup; constitution; quantified in percentage of upper and lowercase letters.\n",
    "\n",
    "In layman's terms, given a message, what is the percentage of upper and lowercase letters.\n",
    "\n",
    "With all that said, let me get started on just that."
   ]
  },
  {
   "attachments": {},
   "cell_type": "markdown",
   "metadata": {},
   "source": [
    "### Feature Engineering - Letter Case Percentage Composition"
   ]
  },
  {
   "attachments": {},
   "cell_type": "markdown",
   "metadata": {},
   "source": [
    "To compute percentage composition, I need to get a character count for each AI's bio. But before I do that, I need to clean their bio up a little bit more, since it is being inflated by whitespace characters and punctuation. I can do that quite simply with regex, specifically [`pandas.Series.str.replace`](https://pandas.pydata.org/docs/reference/api/pandas.Series.str.replace.html):"
   ]
  },
  {
   "cell_type": "code",
   "execution_count": null,
   "metadata": {},
   "outputs": [],
   "source": [
    "# pattern of characters to remove in bio\n",
    "remove_pattern = \"[\\s.,'!?;:()-]\"\n",
    "\n",
    "# perform removal\n",
    "ai_61a_df['clean_bio'] = ai_61a_df['bio'].str.replace(remove_pattern, '', regex=True)\n",
    "ai_61a_df.head(5)"
   ]
  },
  {
   "attachments": {},
   "cell_type": "markdown",
   "metadata": {},
   "source": [
    "Unfortunately the removal is not complete. AIs are young people, and many of them use emojis and innovative other what-nots that I'm too boomer to keep up with. Thus, it is inevitable that there will be a little bit of character bloat. Nonetheless, I do believe that my removal pattern is comprehensive enough that the bloat retained is minimal, so I will continue to proceed."
   ]
  },
  {
   "attachments": {},
   "cell_type": "markdown",
   "metadata": {},
   "source": [
    "Finally, the most important part of the project; determine the percentage of uppercase letters; lowercase can found in a similar way, and since I'm dealing with percentage, might as well get the total character count as well.\n",
    "\n",
    "To start, I create the following three features that will be used to help me determine percentage composition\n",
    "\n",
    "1. `letter_count`: num letters in the clean bio\n",
    "2. `uppercase_count`: num uppercase letters in the clean bio\n",
    "3. `lowercase_count`: num lowercase letters in the clean bio"
   ]
  },
  {
   "cell_type": "code",
   "execution_count": 81,
   "metadata": {},
   "outputs": [
    {
     "data": {
      "text/html": [
       "<div>\n",
       "<style scoped>\n",
       "    .dataframe tbody tr th:only-of-type {\n",
       "        vertical-align: middle;\n",
       "    }\n",
       "\n",
       "    .dataframe tbody tr th {\n",
       "        vertical-align: top;\n",
       "    }\n",
       "\n",
       "    .dataframe thead th {\n",
       "        text-align: right;\n",
       "    }\n",
       "</style>\n",
       "<table border=\"1\" class=\"dataframe\">\n",
       "  <thead>\n",
       "    <tr style=\"text-align: right;\">\n",
       "      <th></th>\n",
       "      <th>clean_bio</th>\n",
       "      <th>letter_count</th>\n",
       "      <th>uppercase_count</th>\n",
       "      <th>lowercase_count</th>\n",
       "    </tr>\n",
       "  </thead>\n",
       "  <tbody>\n",
       "    <tr>\n",
       "      <th>0</th>\n",
       "      <td>HeyImAakarshandImfromSanDiegoFreshmanstudyingE...</td>\n",
       "      <td>222</td>\n",
       "      <td>14</td>\n",
       "      <td>205</td>\n",
       "    </tr>\n",
       "    <tr>\n",
       "      <th>1</th>\n",
       "      <td>YowhatsupImAarnavafirstyearEECSstudentfromtheB...</td>\n",
       "      <td>174</td>\n",
       "      <td>12</td>\n",
       "      <td>160</td>\n",
       "    </tr>\n",
       "    <tr>\n",
       "      <th>2</th>\n",
       "      <td>HiImAaronanintendedCSmajorfromSouthKoreaItsmyf...</td>\n",
       "      <td>134</td>\n",
       "      <td>15</td>\n",
       "      <td>117</td>\n",
       "    </tr>\n",
       "    <tr>\n",
       "      <th>3</th>\n",
       "      <td>HiImAaryanafreshmanfromtheDetroitAreastudyingE...</td>\n",
       "      <td>117</td>\n",
       "      <td>11</td>\n",
       "      <td>106</td>\n",
       "    </tr>\n",
       "    <tr>\n",
       "      <th>4</th>\n",
       "      <td>HelloMynameisAbtinandIamafreshmanfromSanJosest...</td>\n",
       "      <td>143</td>\n",
       "      <td>11</td>\n",
       "      <td>132</td>\n",
       "    </tr>\n",
       "  </tbody>\n",
       "</table>\n",
       "</div>"
      ],
      "text/plain": [
       "                                           clean_bio  letter_count   \n",
       "0  HeyImAakarshandImfromSanDiegoFreshmanstudyingE...           222  \\\n",
       "1  YowhatsupImAarnavafirstyearEECSstudentfromtheB...           174   \n",
       "2  HiImAaronanintendedCSmajorfromSouthKoreaItsmyf...           134   \n",
       "3  HiImAaryanafreshmanfromtheDetroitAreastudyingE...           117   \n",
       "4  HelloMynameisAbtinandIamafreshmanfromSanJosest...           143   \n",
       "\n",
       "   uppercase_count  lowercase_count  \n",
       "0               14              205  \n",
       "1               12              160  \n",
       "2               15              117  \n",
       "3               11              106  \n",
       "4               11              132  "
      ]
     },
     "execution_count": 81,
     "metadata": {},
     "output_type": "execute_result"
    }
   ],
   "source": [
    "# append feature #1\n",
    "# this is essentially treating `clean_bio` as a String and calling `str.len` to get the length\n",
    "ai_61a_df['letter_count'] = ai_61a_df['clean_bio'].apply(lambda clean_bio: len(str(clean_bio)))\n",
    "\n",
    "# append feature #2\n",
    "# this is a pretty complicated function, but I use the pandas.Series.apply function\n",
    "# and then create a lambda function that takes in the column `clean_bio`\n",
    "# which gets converted into a String, and as a String, I loop through it in a list comprehension, creating  \n",
    "# a list that contains the value 1 if a letter is upper and 0 othwerise; the list gets summed up at the end\n",
    "# essentially becoming a count for uppercase letters.\n",
    "ai_61a_df['uppercase_count'] = ai_61a_df['clean_bio'].apply(lambda clean_bio: sum([1 if letter.isupper() else 0 for letter in str(clean_bio)]))\n",
    "\n",
    "# append feature #3\n",
    "# essentially the same as above but uses `str.islower` instead of `str.isupper``\n",
    "ai_61a_df['lowercase_count'] = ai_61a_df['clean_bio'].apply(lambda clean_bio: sum([1 if letter.islower() else 0 for letter in str(clean_bio)]))\n",
    "\n",
    "# project `clean_bio` and new features as a check\n",
    "ai_61a_df[['clean_bio', 'letter_count', 'uppercase_count', 'lowercase_count']].head()\n"
   ]
  },
  {
   "attachments": {},
   "cell_type": "markdown",
   "metadata": {},
   "source": [
    "Notice that it is not necessarily the case that `letter_count` $=$ `uppercase_count` $+$ `lowercase_count`. This is unsurprising; I mentioned the removal pattern was not comprehensive, and this is fine.\n",
    "\n",
    "With these three features, I can easily compute the *letter case percentage composition:\n",
    "\n",
    "* `lowercase_percentage` $=$ `lowercase_count` $/$ `letter_count`\n",
    "* `uppercase_percentage` $=$ `uppercase_count` $/$ `letter_count`"
   ]
  },
  {
   "cell_type": "code",
   "execution_count": 83,
   "metadata": {},
   "outputs": [
    {
     "data": {
      "text/html": [
       "<div>\n",
       "<style scoped>\n",
       "    .dataframe tbody tr th:only-of-type {\n",
       "        vertical-align: middle;\n",
       "    }\n",
       "\n",
       "    .dataframe tbody tr th {\n",
       "        vertical-align: top;\n",
       "    }\n",
       "\n",
       "    .dataframe thead th {\n",
       "        text-align: right;\n",
       "    }\n",
       "</style>\n",
       "<table border=\"1\" class=\"dataframe\">\n",
       "  <thead>\n",
       "    <tr style=\"text-align: right;\">\n",
       "      <th></th>\n",
       "      <th>gender</th>\n",
       "      <th>clean_bio</th>\n",
       "      <th>lowercase_percentage</th>\n",
       "      <th>uppercase_percentage</th>\n",
       "    </tr>\n",
       "  </thead>\n",
       "  <tbody>\n",
       "    <tr>\n",
       "      <th>0</th>\n",
       "      <td>male</td>\n",
       "      <td>HeyImAakarshandImfromSanDiegoFreshmanstudyingE...</td>\n",
       "      <td>0.923423</td>\n",
       "      <td>0.063063</td>\n",
       "    </tr>\n",
       "    <tr>\n",
       "      <th>1</th>\n",
       "      <td>male</td>\n",
       "      <td>YowhatsupImAarnavafirstyearEECSstudentfromtheB...</td>\n",
       "      <td>0.919540</td>\n",
       "      <td>0.068966</td>\n",
       "    </tr>\n",
       "    <tr>\n",
       "      <th>2</th>\n",
       "      <td>male</td>\n",
       "      <td>HiImAaronanintendedCSmajorfromSouthKoreaItsmyf...</td>\n",
       "      <td>0.873134</td>\n",
       "      <td>0.111940</td>\n",
       "    </tr>\n",
       "    <tr>\n",
       "      <th>3</th>\n",
       "      <td>male</td>\n",
       "      <td>HiImAaryanafreshmanfromtheDetroitAreastudyingE...</td>\n",
       "      <td>0.905983</td>\n",
       "      <td>0.094017</td>\n",
       "    </tr>\n",
       "    <tr>\n",
       "      <th>4</th>\n",
       "      <td>male</td>\n",
       "      <td>HelloMynameisAbtinandIamafreshmanfromSanJosest...</td>\n",
       "      <td>0.923077</td>\n",
       "      <td>0.076923</td>\n",
       "    </tr>\n",
       "  </tbody>\n",
       "</table>\n",
       "</div>"
      ],
      "text/plain": [
       "  gender                                          clean_bio   \n",
       "0   male  HeyImAakarshandImfromSanDiegoFreshmanstudyingE...  \\\n",
       "1   male  YowhatsupImAarnavafirstyearEECSstudentfromtheB...   \n",
       "2   male  HiImAaronanintendedCSmajorfromSouthKoreaItsmyf...   \n",
       "3   male  HiImAaryanafreshmanfromtheDetroitAreastudyingE...   \n",
       "4   male  HelloMynameisAbtinandIamafreshmanfromSanJosest...   \n",
       "\n",
       "   lowercase_percentage  uppercase_percentage  \n",
       "0              0.923423              0.063063  \n",
       "1              0.919540              0.068966  \n",
       "2              0.873134              0.111940  \n",
       "3              0.905983              0.094017  \n",
       "4              0.923077              0.076923  "
      ]
     },
     "execution_count": 83,
     "metadata": {},
     "output_type": "execute_result"
    }
   ],
   "source": [
    "# append lowercase_percentage\n",
    "ai_61a_df['lowercase_percentage'] = ai_61a_df['lowercase_count']/ai_61a_df['letter_count']\n",
    "\n",
    "# append uppercase_percentage\n",
    "ai_61a_df['uppercase_percentage'] = ai_61a_df['uppercase_count']/ai_61a_df['letter_count']\n",
    "\n",
    "# project `clean_bio`, `gender`, and new features as a check\n",
    "ai_61a_df[['gender', 'clean_bio', 'lowercase_percentage', 'uppercase_percentage']].head()"
   ]
  },
  {
   "attachments": {},
   "cell_type": "markdown",
   "metadata": {},
   "source": [
    "Alright. The moment of truth. Time to see the distribution of `uppercase_percentage` grouped by `gender`:"
   ]
  },
  {
   "cell_type": "markdown",
   "metadata": {},
   "source": []
  }
 ],
 "metadata": {
  "kernelspec": {
   "display_name": "Python 3",
   "language": "python",
   "name": "python3"
  },
  "language_info": {
   "codemirror_mode": {
    "name": "ipython",
    "version": 3
   },
   "file_extension": ".py",
   "mimetype": "text/x-python",
   "name": "python",
   "nbconvert_exporter": "python",
   "pygments_lexer": "ipython3",
   "version": "3.11.3"
  },
  "orig_nbformat": 4
 },
 "nbformat": 4,
 "nbformat_minor": 2
}
