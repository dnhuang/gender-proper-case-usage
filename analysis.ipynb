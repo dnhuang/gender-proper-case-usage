{
 "cells": [
  {
   "cell_type": "code",
   "execution_count": 12,
   "metadata": {},
   "outputs": [],
   "source": [
    "# necessary imports\n",
    "import pandas as pd"
   ]
  },
  {
   "cell_type": "code",
   "execution_count": 13,
   "metadata": {},
   "outputs": [
    {
     "data": {
      "text/html": [
       "<div>\n",
       "<style scoped>\n",
       "    .dataframe tbody tr th:only-of-type {\n",
       "        vertical-align: middle;\n",
       "    }\n",
       "\n",
       "    .dataframe tbody tr th {\n",
       "        vertical-align: top;\n",
       "    }\n",
       "\n",
       "    .dataframe thead th {\n",
       "        text-align: right;\n",
       "    }\n",
       "</style>\n",
       "<table border=\"1\" class=\"dataframe\">\n",
       "  <thead>\n",
       "    <tr style=\"text-align: right;\">\n",
       "      <th></th>\n",
       "      <th>name</th>\n",
       "      <th>pronoun</th>\n",
       "      <th>bio</th>\n",
       "      <th>semester</th>\n",
       "    </tr>\n",
       "  </thead>\n",
       "  <tbody>\n",
       "    <tr>\n",
       "      <th>0</th>\n",
       "      <td>Aayaan Arora</td>\n",
       "      <td>NaN</td>\n",
       "      <td>What's up. My name is Aayaan and I am a second...</td>\n",
       "      <td>fa22</td>\n",
       "    </tr>\n",
       "    <tr>\n",
       "      <th>1</th>\n",
       "      <td>Aayushi Chaudhry</td>\n",
       "      <td>she/her/hers</td>\n",
       "      <td>Hi!! I am a sophomore from San Diego. I am stu...</td>\n",
       "      <td>fa22</td>\n",
       "    </tr>\n",
       "    <tr>\n",
       "      <th>2</th>\n",
       "      <td>Aayushi Jain</td>\n",
       "      <td>she/her/hers</td>\n",
       "      <td>hi there i'm a sophomore studying EECS :) i lo...</td>\n",
       "      <td>fa22</td>\n",
       "    </tr>\n",
       "    <tr>\n",
       "      <th>3</th>\n",
       "      <td>Adi Iyer</td>\n",
       "      <td>he/him/his</td>\n",
       "      <td>Hey! I'm a sophomore form Bangalore India and ...</td>\n",
       "      <td>fa22</td>\n",
       "    </tr>\n",
       "    <tr>\n",
       "      <th>4</th>\n",
       "      <td>Aditya Rao</td>\n",
       "      <td>he/him/his</td>\n",
       "      <td>Hi! My name is Aditya and I am a sophomore stu...</td>\n",
       "      <td>fa22</td>\n",
       "    </tr>\n",
       "  </tbody>\n",
       "</table>\n",
       "</div>"
      ],
      "text/plain": [
       "               name       pronoun   \n",
       "0      Aayaan Arora           NaN  \\\n",
       "1  Aayushi Chaudhry  she/her/hers   \n",
       "2      Aayushi Jain  she/her/hers   \n",
       "3          Adi Iyer    he/him/his   \n",
       "4        Aditya Rao    he/him/his   \n",
       "\n",
       "                                                 bio semester  \n",
       "0  What's up. My name is Aayaan and I am a second...     fa22  \n",
       "1  Hi!! I am a sophomore from San Diego. I am stu...     fa22  \n",
       "2  hi there i'm a sophomore studying EECS :) i lo...     fa22  \n",
       "3  Hey! I'm a sophomore form Bangalore India and ...     fa22  \n",
       "4  Hi! My name is Aditya and I am a sophomore stu...     fa22  "
      ]
     },
     "execution_count": 13,
     "metadata": {},
     "output_type": "execute_result"
    }
   ],
   "source": [
    "ai_61a_df = pd.read_csv(\"ai_61a_data.csv\")\n",
    "ai_61a_df.head()"
   ]
  },
  {
   "cell_type": "code",
   "execution_count": null,
   "metadata": {},
   "outputs": [],
   "source": [
    "### TODO: BEGIN ANALYSIS ###"
   ]
  }
 ],
 "metadata": {
  "kernelspec": {
   "display_name": "Python 3",
   "language": "python",
   "name": "python3"
  },
  "language_info": {
   "codemirror_mode": {
    "name": "ipython",
    "version": 3
   },
   "file_extension": ".py",
   "mimetype": "text/x-python",
   "name": "python",
   "nbconvert_exporter": "python",
   "pygments_lexer": "ipython3",
   "version": "3.11.3"
  },
  "orig_nbformat": 4
 },
 "nbformat": 4,
 "nbformat_minor": 2
}
