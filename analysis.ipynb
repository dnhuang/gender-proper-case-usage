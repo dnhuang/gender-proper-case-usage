{
 "cells": [
  {
   "attachments": {},
   "cell_type": "markdown",
   "metadata": {},
   "source": [
    "# EDA on Data for Academic Interns in UC Berkeley's CS61A Course"
   ]
  },
  {
   "attachments": {},
   "cell_type": "markdown",
   "metadata": {},
   "source": [
    "## Imports"
   ]
  },
  {
   "cell_type": "code",
   "execution_count": 1,
   "metadata": {},
   "outputs": [],
   "source": [
    "# necessary imports\n",
    "import pandas as pd\n",
    "from matplotlib import pyplot as plt\n",
    "import seaborn as sns\n",
    "import numpy as np\n",
    "from scipy.interpolate import make_interp_spline"
   ]
  },
  {
   "attachments": {},
   "cell_type": "markdown",
   "metadata": {},
   "source": [
    "## EDA and Preprocessing"
   ]
  },
  {
   "attachments": {},
   "cell_type": "markdown",
   "metadata": {},
   "source": [
    "I start by reading in the scraped data into a pandas DataFrame."
   ]
  },
  {
   "cell_type": "code",
   "execution_count": 2,
   "metadata": {},
   "outputs": [
    {
     "data": {
      "text/html": [
       "<div>\n",
       "<style scoped>\n",
       "    .dataframe tbody tr th:only-of-type {\n",
       "        vertical-align: middle;\n",
       "    }\n",
       "\n",
       "    .dataframe tbody tr th {\n",
       "        vertical-align: top;\n",
       "    }\n",
       "\n",
       "    .dataframe thead th {\n",
       "        text-align: right;\n",
       "    }\n",
       "</style>\n",
       "<table border=\"1\" class=\"dataframe\">\n",
       "  <thead>\n",
       "    <tr style=\"text-align: right;\">\n",
       "      <th></th>\n",
       "      <th>name</th>\n",
       "      <th>pronoun</th>\n",
       "      <th>bio</th>\n",
       "      <th>semester</th>\n",
       "    </tr>\n",
       "  </thead>\n",
       "  <tbody>\n",
       "    <tr>\n",
       "      <th>0</th>\n",
       "      <td>Aakarsh Vermani</td>\n",
       "      <td>he/him/his</td>\n",
       "      <td>Hey I'm Aakarsh and I'm from San Diego. Freshm...</td>\n",
       "      <td>sp23</td>\n",
       "    </tr>\n",
       "    <tr>\n",
       "      <th>1</th>\n",
       "      <td>Aarnav Sanghvi</td>\n",
       "      <td>he/him/his</td>\n",
       "      <td>Yo what's up! I'm Aarnav a first year EECS stu...</td>\n",
       "      <td>sp23</td>\n",
       "    </tr>\n",
       "    <tr>\n",
       "      <th>2</th>\n",
       "      <td>Aaron Ha</td>\n",
       "      <td>he/him/his</td>\n",
       "      <td>Hi! I'm Aaron an intended CS major from South ...</td>\n",
       "      <td>sp23</td>\n",
       "    </tr>\n",
       "    <tr>\n",
       "      <th>3</th>\n",
       "      <td>Aaryan Chandna</td>\n",
       "      <td>he/him/his</td>\n",
       "      <td>Hi! I'm Aaryan a freshman from the Detroit Are...</td>\n",
       "      <td>sp23</td>\n",
       "    </tr>\n",
       "    <tr>\n",
       "      <th>4</th>\n",
       "      <td>Abtin Khashayar</td>\n",
       "      <td>he/him/his</td>\n",
       "      <td>Hello! My name is Abtin and I am a freshman fr...</td>\n",
       "      <td>sp23</td>\n",
       "    </tr>\n",
       "  </tbody>\n",
       "</table>\n",
       "</div>"
      ],
      "text/plain": [
       "              name     pronoun   \n",
       "0  Aakarsh Vermani  he/him/his  \\\n",
       "1   Aarnav Sanghvi  he/him/his   \n",
       "2         Aaron Ha  he/him/his   \n",
       "3   Aaryan Chandna  he/him/his   \n",
       "4  Abtin Khashayar  he/him/his   \n",
       "\n",
       "                                                 bio semester  \n",
       "0  Hey I'm Aakarsh and I'm from San Diego. Freshm...     sp23  \n",
       "1  Yo what's up! I'm Aarnav a first year EECS stu...     sp23  \n",
       "2  Hi! I'm Aaron an intended CS major from South ...     sp23  \n",
       "3  Hi! I'm Aaryan a freshman from the Detroit Are...     sp23  \n",
       "4  Hello! My name is Abtin and I am a freshman fr...     sp23  "
      ]
     },
     "execution_count": 2,
     "metadata": {},
     "output_type": "execute_result"
    }
   ],
   "source": [
    "ai_61a_df = pd.read_csv(\"ai_61a_data.csv\")\n",
    "ai_61a_df.head()"
   ]
  },
  {
   "attachments": {},
   "cell_type": "markdown",
   "metadata": {},
   "source": [
    "Next, I want a quick overview of the DataFrame."
   ]
  },
  {
   "cell_type": "code",
   "execution_count": 3,
   "metadata": {},
   "outputs": [
    {
     "data": {
      "text/html": [
       "<div>\n",
       "<style scoped>\n",
       "    .dataframe tbody tr th:only-of-type {\n",
       "        vertical-align: middle;\n",
       "    }\n",
       "\n",
       "    .dataframe tbody tr th {\n",
       "        vertical-align: top;\n",
       "    }\n",
       "\n",
       "    .dataframe thead th {\n",
       "        text-align: right;\n",
       "    }\n",
       "</style>\n",
       "<table border=\"1\" class=\"dataframe\">\n",
       "  <thead>\n",
       "    <tr style=\"text-align: right;\">\n",
       "      <th></th>\n",
       "      <th>name</th>\n",
       "      <th>pronoun</th>\n",
       "      <th>bio</th>\n",
       "      <th>semester</th>\n",
       "    </tr>\n",
       "  </thead>\n",
       "  <tbody>\n",
       "    <tr>\n",
       "      <th>count</th>\n",
       "      <td>643</td>\n",
       "      <td>626</td>\n",
       "      <td>573</td>\n",
       "      <td>643</td>\n",
       "    </tr>\n",
       "    <tr>\n",
       "      <th>unique</th>\n",
       "      <td>637</td>\n",
       "      <td>7</td>\n",
       "      <td>572</td>\n",
       "      <td>6</td>\n",
       "    </tr>\n",
       "    <tr>\n",
       "      <th>top</th>\n",
       "      <td>Justin Zhang</td>\n",
       "      <td>he/him/his</td>\n",
       "      <td>Hey I'm Matt! I'm a second-year EECS major fro...</td>\n",
       "      <td>fa22</td>\n",
       "    </tr>\n",
       "    <tr>\n",
       "      <th>freq</th>\n",
       "      <td>2</td>\n",
       "      <td>389</td>\n",
       "      <td>2</td>\n",
       "      <td>152</td>\n",
       "    </tr>\n",
       "  </tbody>\n",
       "</table>\n",
       "</div>"
      ],
      "text/plain": [
       "                name     pronoun   \n",
       "count            643         626  \\\n",
       "unique           637           7   \n",
       "top     Justin Zhang  he/him/his   \n",
       "freq               2         389   \n",
       "\n",
       "                                                      bio semester  \n",
       "count                                                 573      643  \n",
       "unique                                                572        6  \n",
       "top     Hey I'm Matt! I'm a second-year EECS major fro...     fa22  \n",
       "freq                                                    2      152  "
      ]
     },
     "execution_count": 3,
     "metadata": {},
     "output_type": "execute_result"
    }
   ],
   "source": [
    "ai_61a_df.describe()"
   ]
  },
  {
   "attachments": {},
   "cell_type": "markdown",
   "metadata": {},
   "source": [
    "Confirming the $6$ unique semesters and the number of AIs hired:"
   ]
  },
  {
   "cell_type": "code",
   "execution_count": 4,
   "metadata": {},
   "outputs": [
    {
     "data": {
      "text/plain": [
       "semester\n",
       "fa22    152\n",
       "fa21    132\n",
       "sp23    130\n",
       "sp22    125\n",
       "su22     54\n",
       "sp21     50\n",
       "Name: count, dtype: int64"
      ]
     },
     "execution_count": 4,
     "metadata": {},
     "output_type": "execute_result"
    }
   ],
   "source": [
    "ai_61a_df['semester'].value_counts()"
   ]
  },
  {
   "attachments": {},
   "cell_type": "markdown",
   "metadata": {},
   "source": [
    "It looks good, it matches the data that I have in `scraper.ipynb`. Something interesting is that for the most part, the number of AIs recruited each semester seems to be increasing, except for the slight dip from `fa22`'s $152$ AIs to `sp23`'s $130$. But thinking more about this, I'm not sure why there would be a decrease. I graduated in Fall of 2022, and I know during that semester a strike occurred that was largely organized by CS students to demand for more funding so that more people could be hired. From the plethora of strike status update emails I received, I recall that the strike was *somewhat* successful and the graduate and undergraduate students received slightly better pay and more benefits, so how did AI hiring numbers go down?\n",
    "\n",
    "My assumption is maybe that since AIs are *not paid*, it doesn't matter if funding increased or not, the number of opportunities should stay roughly the same. Maybe, since there was a pay increase, the department was able to hire more *tutors* and *TAs* (the roles that are higher in the pyramid than AIs), and so the course didn't have to hire as many AIs. But at the same time, I don't see a reason not to hire *more* AIs. Office Hour queues are an absolute nightmare, especially during project weeks, so more AIs would only help... right?\n",
    "\n",
    "On a second thought, I'm not entirely sure if 61A AIs help with projects; I think the policy changes each semester depending on the professor and the AI Coordinator. I know 61B AIs definitely help with projects (Gitlet and Enigma... never again, thank god Hilfinger retired). Regardless, it seems like my initial theories here are inconclusive and I'll need to physically go back and see to get an answer.\n"
   ]
  },
  {
   "attachments": {},
   "cell_type": "markdown",
   "metadata": {},
   "source": [
    "Going back to the overiew, assuming everyone has a name, there were a total of $643$ AIs scraped from the $6$ semesters of AI pages for CS61A. $637$ of them are unique, meaning some were rehired. This is very interesting, since I had a friend tell me that 61A AIs are *very rarely rehired*. Looking at the `freq` row from the results of `describe()`, it seems like no one was rehired for more than $2$ semesters, once again reinforcing my friend's claims. Now I'm curious to see how who rehired:"
   ]
  },
  {
   "cell_type": "code",
   "execution_count": 5,
   "metadata": {},
   "outputs": [
    {
     "data": {
      "text/plain": [
       "name\n",
       "Justin Zhang       2\n",
       "Matthew Ybarra     2\n",
       "Andrew Wang        2\n",
       "Bryan Li           2\n",
       "Andy Chen          2\n",
       "Wonjae Lee         2\n",
       "Aakarsh Vermani    1\n",
       "Jeff Zhou          1\n",
       "Emma Wu            1\n",
       "Esther Shen        1\n",
       "Name: count, dtype: int64"
      ]
     },
     "execution_count": 5,
     "metadata": {},
     "output_type": "execute_result"
    }
   ],
   "source": [
    "# Checking who got rehired for more than one semester\n",
    "ai_61a_df['name'].value_counts().head(10)"
   ]
  },
  {
   "attachments": {},
   "cell_type": "markdown",
   "metadata": {},
   "source": [
    "Ok Justin Zhang, Matthew Ybarra, Andrew Wang, Bryan Li, Andy Chen, and Wonjae Lee. The big brain ones I see...\n",
    "\n",
    "Wait, Wonjae Lee! I remember imputing his pronouns during data scraping, and I had to assume his gender. Let's check if I got his pronouns correct:"
   ]
  },
  {
   "cell_type": "code",
   "execution_count": 6,
   "metadata": {},
   "outputs": [
    {
     "data": {
      "text/html": [
       "<div>\n",
       "<style scoped>\n",
       "    .dataframe tbody tr th:only-of-type {\n",
       "        vertical-align: middle;\n",
       "    }\n",
       "\n",
       "    .dataframe tbody tr th {\n",
       "        vertical-align: top;\n",
       "    }\n",
       "\n",
       "    .dataframe thead th {\n",
       "        text-align: right;\n",
       "    }\n",
       "</style>\n",
       "<table border=\"1\" class=\"dataframe\">\n",
       "  <thead>\n",
       "    <tr style=\"text-align: right;\">\n",
       "      <th></th>\n",
       "      <th>name</th>\n",
       "      <th>pronoun</th>\n",
       "      <th>bio</th>\n",
       "      <th>semester</th>\n",
       "    </tr>\n",
       "  </thead>\n",
       "  <tbody>\n",
       "    <tr>\n",
       "      <th>587</th>\n",
       "      <td>Wonjae Lee</td>\n",
       "      <td>he/him/his</td>\n",
       "      <td>Welcome to CS61A</td>\n",
       "      <td>fa21</td>\n",
       "    </tr>\n",
       "    <tr>\n",
       "      <th>636</th>\n",
       "      <td>Wonjae Lee</td>\n",
       "      <td>he/him/his</td>\n",
       "      <td>I like cheese</td>\n",
       "      <td>sp21</td>\n",
       "    </tr>\n",
       "  </tbody>\n",
       "</table>\n",
       "</div>"
      ],
      "text/plain": [
       "           name     pronoun               bio semester\n",
       "587  Wonjae Lee  he/him/his  Welcome to CS61A     fa21\n",
       "636  Wonjae Lee  he/him/his     I like cheese     sp21"
      ]
     },
     "execution_count": 6,
     "metadata": {},
     "output_type": "execute_result"
    }
   ],
   "source": [
    "# Filter for Wonjae Lee\n",
    "ai_61a_df[ai_61a_df['name']=='Wonjae Lee']"
   ]
  },
  {
   "attachments": {},
   "cell_type": "markdown",
   "metadata": {},
   "source": [
    "I imputed his `fa21` pronouns, and it seems I did assume correctly since his `sp21` are the same as my imputed values. It also seems like the rehire occured in consecutive semesters, let's see if that is also the case for the other $5$ rehired AIs."
   ]
  },
  {
   "cell_type": "code",
   "execution_count": 7,
   "metadata": {},
   "outputs": [
    {
     "data": {
      "text/html": [
       "<div>\n",
       "<style scoped>\n",
       "    .dataframe tbody tr th:only-of-type {\n",
       "        vertical-align: middle;\n",
       "    }\n",
       "\n",
       "    .dataframe tbody tr th {\n",
       "        vertical-align: top;\n",
       "    }\n",
       "\n",
       "    .dataframe thead th {\n",
       "        text-align: right;\n",
       "    }\n",
       "</style>\n",
       "<table border=\"1\" class=\"dataframe\">\n",
       "  <thead>\n",
       "    <tr style=\"text-align: right;\">\n",
       "      <th></th>\n",
       "      <th>name</th>\n",
       "      <th>pronoun</th>\n",
       "      <th>bio</th>\n",
       "      <th>semester</th>\n",
       "    </tr>\n",
       "  </thead>\n",
       "  <tbody>\n",
       "    <tr>\n",
       "      <th>472</th>\n",
       "      <td>Andrew Wang</td>\n",
       "      <td>he/him/his</td>\n",
       "      <td>Hi! I'm a 2nd year studying computer science a...</td>\n",
       "      <td>fa21</td>\n",
       "    </tr>\n",
       "    <tr>\n",
       "      <th>597</th>\n",
       "      <td>Andrew Wang</td>\n",
       "      <td>he/him/his</td>\n",
       "      <td>Heyo! I'm a freshman majoring in EECS and love...</td>\n",
       "      <td>sp21</td>\n",
       "    </tr>\n",
       "    <tr>\n",
       "      <th>291</th>\n",
       "      <td>Andy Chen</td>\n",
       "      <td>he/him/his</td>\n",
       "      <td>Hey there! I’m Andy I’m a first-year intended ...</td>\n",
       "      <td>sp22</td>\n",
       "    </tr>\n",
       "    <tr>\n",
       "      <th>473</th>\n",
       "      <td>Andy Chen</td>\n",
       "      <td>he/him/his</td>\n",
       "      <td>Hi I'm Andy! I'm a second year intended CS maj...</td>\n",
       "      <td>fa21</td>\n",
       "    </tr>\n",
       "    <tr>\n",
       "      <th>28</th>\n",
       "      <td>Bryan Li</td>\n",
       "      <td>he/him/his</td>\n",
       "      <td>Hi I'm a freshman studying mathematics and com...</td>\n",
       "      <td>sp23</td>\n",
       "    </tr>\n",
       "    <tr>\n",
       "      <th>491</th>\n",
       "      <td>Bryan Li</td>\n",
       "      <td>he/him/his</td>\n",
       "      <td>Hello! I'm a sophomore studying EECS coming al...</td>\n",
       "      <td>fa21</td>\n",
       "    </tr>\n",
       "    <tr>\n",
       "      <th>534</th>\n",
       "      <td>Justin Zhang</td>\n",
       "      <td>he/him/his</td>\n",
       "      <td>What is up guys! My name is Justin and I'm a s...</td>\n",
       "      <td>fa21</td>\n",
       "    </tr>\n",
       "    <tr>\n",
       "      <th>621</th>\n",
       "      <td>Justin Zhang</td>\n",
       "      <td>he/him/his</td>\n",
       "      <td>Hello those who decided to read bios of academ...</td>\n",
       "      <td>sp21</td>\n",
       "    </tr>\n",
       "    <tr>\n",
       "      <th>78</th>\n",
       "      <td>Matthew Ybarra</td>\n",
       "      <td>he/him/his</td>\n",
       "      <td>Hey I'm Matt! I'm a second-year EECS major fro...</td>\n",
       "      <td>sp23</td>\n",
       "    </tr>\n",
       "    <tr>\n",
       "      <th>222</th>\n",
       "      <td>Matthew Ybarra</td>\n",
       "      <td>he/him/his</td>\n",
       "      <td>Hey I'm Matt! I'm a second-year EECS major fro...</td>\n",
       "      <td>fa22</td>\n",
       "    </tr>\n",
       "  </tbody>\n",
       "</table>\n",
       "</div>"
      ],
      "text/plain": [
       "               name     pronoun   \n",
       "472     Andrew Wang  he/him/his  \\\n",
       "597     Andrew Wang  he/him/his   \n",
       "291       Andy Chen  he/him/his   \n",
       "473       Andy Chen  he/him/his   \n",
       "28         Bryan Li  he/him/his   \n",
       "491        Bryan Li  he/him/his   \n",
       "534    Justin Zhang  he/him/his   \n",
       "621    Justin Zhang  he/him/his   \n",
       "78   Matthew Ybarra  he/him/his   \n",
       "222  Matthew Ybarra  he/him/his   \n",
       "\n",
       "                                                   bio semester  \n",
       "472  Hi! I'm a 2nd year studying computer science a...     fa21  \n",
       "597  Heyo! I'm a freshman majoring in EECS and love...     sp21  \n",
       "291  Hey there! I’m Andy I’m a first-year intended ...     sp22  \n",
       "473  Hi I'm Andy! I'm a second year intended CS maj...     fa21  \n",
       "28   Hi I'm a freshman studying mathematics and com...     sp23  \n",
       "491  Hello! I'm a sophomore studying EECS coming al...     fa21  \n",
       "534  What is up guys! My name is Justin and I'm a s...     fa21  \n",
       "621  Hello those who decided to read bios of academ...     sp21  \n",
       "78   Hey I'm Matt! I'm a second-year EECS major fro...     sp23  \n",
       "222  Hey I'm Matt! I'm a second-year EECS major fro...     fa22  "
      ]
     },
     "execution_count": 7,
     "metadata": {},
     "output_type": "execute_result"
    }
   ],
   "source": [
    "# Filter is going to look really ugly, but it is what it is\n",
    "ai_61a_df[(ai_61a_df['name']=='Justin Zhang') | (ai_61a_df['name']=='Matthew Ybarra') | (ai_61a_df['name']=='Andrew Wang') |\n",
    "          (ai_61a_df['name']=='Bryan Li') | (ai_61a_df['name']=='Andy Chen')].sort_values('name')"
   ]
  },
  {
   "attachments": {},
   "cell_type": "markdown",
   "metadata": {},
   "source": [
    "Very interesting. Like Wonjae, everyone else seems to be a rehire *except* for Bryan Li. From reading their bios, the numbers don't add up, as one was a freshman in `sp23` and the other was a sophomore in `fa21`, not to mention their majors are completely different. Unfortunately there's no unique identifier that I could scrape from the AI pages, so issues like these will occur regardless. Nevertheless, this shouldn't negatively affect the question I'm trying to answer.\n",
    "\n",
    "Admittedly, looking at this makes me a bit salty. I was a 61A AI in Fall of 2021, but was not rehired for Spring of 2022.\n",
    "\n",
    "Proof:"
   ]
  },
  {
   "cell_type": "code",
   "execution_count": 8,
   "metadata": {},
   "outputs": [
    {
     "data": {
      "text/html": [
       "<div>\n",
       "<style scoped>\n",
       "    .dataframe tbody tr th:only-of-type {\n",
       "        vertical-align: middle;\n",
       "    }\n",
       "\n",
       "    .dataframe tbody tr th {\n",
       "        vertical-align: top;\n",
       "    }\n",
       "\n",
       "    .dataframe thead th {\n",
       "        text-align: right;\n",
       "    }\n",
       "</style>\n",
       "<table border=\"1\" class=\"dataframe\">\n",
       "  <thead>\n",
       "    <tr style=\"text-align: right;\">\n",
       "      <th></th>\n",
       "      <th>name</th>\n",
       "      <th>pronoun</th>\n",
       "      <th>bio</th>\n",
       "      <th>semester</th>\n",
       "    </tr>\n",
       "  </thead>\n",
       "  <tbody>\n",
       "    <tr>\n",
       "      <th>499</th>\n",
       "      <td>Daniel Huang</td>\n",
       "      <td>he/him/his</td>\n",
       "      <td>Hey everyone! I'm Daniel a senior study Data S...</td>\n",
       "      <td>fa21</td>\n",
       "    </tr>\n",
       "  </tbody>\n",
       "</table>\n",
       "</div>"
      ],
      "text/plain": [
       "             name     pronoun   \n",
       "499  Daniel Huang  he/him/his  \\\n",
       "\n",
       "                                                   bio semester  \n",
       "499  Hey everyone! I'm Daniel a senior study Data S...     fa21  "
      ]
     },
     "execution_count": 8,
     "metadata": {},
     "output_type": "execute_result"
    }
   ],
   "source": [
    "ai_61a_df[ai_61a_df['name']== 'Daniel Huang']"
   ]
  },
  {
   "attachments": {},
   "cell_type": "markdown",
   "metadata": {},
   "source": [
    "Whatever, I'm on to greener pastures (sorta)."
   ]
  },
  {
   "attachments": {},
   "cell_type": "markdown",
   "metadata": {},
   "source": [
    "\n",
    "Returning to the overview, I see that there are $626$ listed pronouns, meaning the DataFrame missing $643-626=17$ pronoun entries. Let's confirm that:"
   ]
  },
  {
   "cell_type": "code",
   "execution_count": 9,
   "metadata": {},
   "outputs": [
    {
     "name": "stdout",
     "output_type": "stream",
     "text": [
      "Num Empty Pronouns: 17\n"
     ]
    }
   ],
   "source": [
    "print(\"Num Empty Pronouns: {}\".format(sum(ai_61a_df['pronoun'].isna())))"
   ]
  },
  {
   "attachments": {},
   "cell_type": "markdown",
   "metadata": {},
   "source": [
    "Pronouns are ultimately what I will be using to determine gender, which is the crux of this project's question. Taking a closer look at these $17$ entries:"
   ]
  },
  {
   "cell_type": "code",
   "execution_count": 10,
   "metadata": {},
   "outputs": [
    {
     "data": {
      "text/html": [
       "<div>\n",
       "<style scoped>\n",
       "    .dataframe tbody tr th:only-of-type {\n",
       "        vertical-align: middle;\n",
       "    }\n",
       "\n",
       "    .dataframe tbody tr th {\n",
       "        vertical-align: top;\n",
       "    }\n",
       "\n",
       "    .dataframe thead th {\n",
       "        text-align: right;\n",
       "    }\n",
       "</style>\n",
       "<table border=\"1\" class=\"dataframe\">\n",
       "  <thead>\n",
       "    <tr style=\"text-align: right;\">\n",
       "      <th></th>\n",
       "      <th>name</th>\n",
       "      <th>pronoun</th>\n",
       "      <th>bio</th>\n",
       "      <th>semester</th>\n",
       "    </tr>\n",
       "  </thead>\n",
       "  <tbody>\n",
       "    <tr>\n",
       "      <th>12</th>\n",
       "      <td>Anaiy Somalwar</td>\n",
       "      <td>NaN</td>\n",
       "      <td>Hey! I'm Anaiy and I'm a freshman dual majorin...</td>\n",
       "      <td>sp23</td>\n",
       "    </tr>\n",
       "    <tr>\n",
       "      <th>48</th>\n",
       "      <td>Isita Talukdar</td>\n",
       "      <td>NaN</td>\n",
       "      <td>Hello Everyone! I'm Isita and I'm an EECS Fres...</td>\n",
       "      <td>sp23</td>\n",
       "    </tr>\n",
       "    <tr>\n",
       "      <th>55</th>\n",
       "      <td>Jessica Ng</td>\n",
       "      <td>NaN</td>\n",
       "      <td>NaN</td>\n",
       "      <td>sp23</td>\n",
       "    </tr>\n",
       "    <tr>\n",
       "      <th>101</th>\n",
       "      <td>Runjeet Narula</td>\n",
       "      <td>NaN</td>\n",
       "      <td>Hi everyone! I'm Runjeet a freshman from Seatt...</td>\n",
       "      <td>sp23</td>\n",
       "    </tr>\n",
       "    <tr>\n",
       "      <th>111</th>\n",
       "      <td>Sofiia Surzhak</td>\n",
       "      <td>NaN</td>\n",
       "      <td>Hi everyone! I'm a sophomore studying CS and D...</td>\n",
       "      <td>sp23</td>\n",
       "    </tr>\n",
       "    <tr>\n",
       "      <th>120</th>\n",
       "      <td>Tyler Zhao</td>\n",
       "      <td>NaN</td>\n",
       "      <td>Hello! I'm Tyler a freshman from Singapore cur...</td>\n",
       "      <td>sp23</td>\n",
       "    </tr>\n",
       "    <tr>\n",
       "      <th>130</th>\n",
       "      <td>Aayaan Arora</td>\n",
       "      <td>NaN</td>\n",
       "      <td>What's up. My name is Aayaan and I am a second...</td>\n",
       "      <td>fa22</td>\n",
       "    </tr>\n",
       "    <tr>\n",
       "      <th>146</th>\n",
       "      <td>Anna Dymchenko</td>\n",
       "      <td>NaN</td>\n",
       "      <td>Hey! I'm a junior majoring in EECS from Sarato...</td>\n",
       "      <td>fa22</td>\n",
       "    </tr>\n",
       "    <tr>\n",
       "      <th>208</th>\n",
       "      <td>Joseph Liu</td>\n",
       "      <td>NaN</td>\n",
       "      <td>Hey hey people Joseph here. Welcome to a littl...</td>\n",
       "      <td>fa22</td>\n",
       "    </tr>\n",
       "    <tr>\n",
       "      <th>216</th>\n",
       "      <td>Luke Torre</td>\n",
       "      <td>NaN</td>\n",
       "      <td>1) Stop reading my bio.2) Finish your 61a work...</td>\n",
       "      <td>fa22</td>\n",
       "    </tr>\n",
       "    <tr>\n",
       "      <th>225</th>\n",
       "      <td>Michael Haroon</td>\n",
       "      <td>NaN</td>\n",
       "      <td>Hello!I’m a transfer to Cal who did well in 61...</td>\n",
       "      <td>fa22</td>\n",
       "    </tr>\n",
       "    <tr>\n",
       "      <th>236</th>\n",
       "      <td>Ranaa Jamshed</td>\n",
       "      <td>NaN</td>\n",
       "      <td>NaN</td>\n",
       "      <td>fa22</td>\n",
       "    </tr>\n",
       "    <tr>\n",
       "      <th>242</th>\n",
       "      <td>Royce Ren</td>\n",
       "      <td>NaN</td>\n",
       "      <td>Hi! I'm a sophomore CS major from the Bay! In ...</td>\n",
       "      <td>fa22</td>\n",
       "    </tr>\n",
       "    <tr>\n",
       "      <th>273</th>\n",
       "      <td>Vincent Lin</td>\n",
       "      <td>NaN</td>\n",
       "      <td>hi! i'm a second-year cs major from the bay ar...</td>\n",
       "      <td>fa22</td>\n",
       "    </tr>\n",
       "    <tr>\n",
       "      <th>286</th>\n",
       "      <td>Akul Vohra</td>\n",
       "      <td>NaN</td>\n",
       "      <td>Hi I'm Akul and I'm a freshman from the Bay Area.</td>\n",
       "      <td>sp22</td>\n",
       "    </tr>\n",
       "    <tr>\n",
       "      <th>303</th>\n",
       "      <td>Bill Zheng</td>\n",
       "      <td>NaN</td>\n",
       "      <td>It's not about how you start it's always about...</td>\n",
       "      <td>sp22</td>\n",
       "    </tr>\n",
       "    <tr>\n",
       "      <th>317</th>\n",
       "      <td>Derrick Qi</td>\n",
       "      <td>NaN</td>\n",
       "      <td>Intended CS major from Houston Texas 🤠.</td>\n",
       "      <td>sp22</td>\n",
       "    </tr>\n",
       "  </tbody>\n",
       "</table>\n",
       "</div>"
      ],
      "text/plain": [
       "               name pronoun   \n",
       "12   Anaiy Somalwar     NaN  \\\n",
       "48   Isita Talukdar     NaN   \n",
       "55       Jessica Ng     NaN   \n",
       "101  Runjeet Narula     NaN   \n",
       "111  Sofiia Surzhak     NaN   \n",
       "120      Tyler Zhao     NaN   \n",
       "130    Aayaan Arora     NaN   \n",
       "146  Anna Dymchenko     NaN   \n",
       "208      Joseph Liu     NaN   \n",
       "216      Luke Torre     NaN   \n",
       "225  Michael Haroon     NaN   \n",
       "236   Ranaa Jamshed     NaN   \n",
       "242       Royce Ren     NaN   \n",
       "273     Vincent Lin     NaN   \n",
       "286      Akul Vohra     NaN   \n",
       "303      Bill Zheng     NaN   \n",
       "317      Derrick Qi     NaN   \n",
       "\n",
       "                                                   bio semester  \n",
       "12   Hey! I'm Anaiy and I'm a freshman dual majorin...     sp23  \n",
       "48   Hello Everyone! I'm Isita and I'm an EECS Fres...     sp23  \n",
       "55                                                 NaN     sp23  \n",
       "101  Hi everyone! I'm Runjeet a freshman from Seatt...     sp23  \n",
       "111  Hi everyone! I'm a sophomore studying CS and D...     sp23  \n",
       "120  Hello! I'm Tyler a freshman from Singapore cur...     sp23  \n",
       "130  What's up. My name is Aayaan and I am a second...     fa22  \n",
       "146  Hey! I'm a junior majoring in EECS from Sarato...     fa22  \n",
       "208  Hey hey people Joseph here. Welcome to a littl...     fa22  \n",
       "216  1) Stop reading my bio.2) Finish your 61a work...     fa22  \n",
       "225  Hello!I’m a transfer to Cal who did well in 61...     fa22  \n",
       "236                                                NaN     fa22  \n",
       "242  Hi! I'm a sophomore CS major from the Bay! In ...     fa22  \n",
       "273  hi! i'm a second-year cs major from the bay ar...     fa22  \n",
       "286  Hi I'm Akul and I'm a freshman from the Bay Area.     sp22  \n",
       "303  It's not about how you start it's always about...     sp22  \n",
       "317           Intended CS major from Houston Texas 🤠.      sp22  "
      ]
     },
     "execution_count": 10,
     "metadata": {},
     "output_type": "execute_result"
    }
   ],
   "source": [
    "ai_61a_df[ai_61a_df['pronoun'].isna()]"
   ]
  },
  {
   "attachments": {},
   "cell_type": "markdown",
   "metadata": {},
   "source": [
    "I could try to manually input pronouns for these entries by looking at their name, reading their bio, and looking up their photo in their corresponding semester's AI page. $17$ entries however is roughly only $3\\%$ of my total data, I think I'm fine with losing $3\\%$ of my data and not having to assume someone's gender. I perform the null removal in the following cell:"
   ]
  },
  {
   "cell_type": "code",
   "execution_count": 11,
   "metadata": {},
   "outputs": [
    {
     "data": {
      "text/html": [
       "<div>\n",
       "<style scoped>\n",
       "    .dataframe tbody tr th:only-of-type {\n",
       "        vertical-align: middle;\n",
       "    }\n",
       "\n",
       "    .dataframe tbody tr th {\n",
       "        vertical-align: top;\n",
       "    }\n",
       "\n",
       "    .dataframe thead th {\n",
       "        text-align: right;\n",
       "    }\n",
       "</style>\n",
       "<table border=\"1\" class=\"dataframe\">\n",
       "  <thead>\n",
       "    <tr style=\"text-align: right;\">\n",
       "      <th></th>\n",
       "      <th>name</th>\n",
       "      <th>pronoun</th>\n",
       "      <th>bio</th>\n",
       "      <th>semester</th>\n",
       "    </tr>\n",
       "  </thead>\n",
       "  <tbody>\n",
       "    <tr>\n",
       "      <th>count</th>\n",
       "      <td>626</td>\n",
       "      <td>626</td>\n",
       "      <td>558</td>\n",
       "      <td>626</td>\n",
       "    </tr>\n",
       "    <tr>\n",
       "      <th>unique</th>\n",
       "      <td>620</td>\n",
       "      <td>7</td>\n",
       "      <td>557</td>\n",
       "      <td>6</td>\n",
       "    </tr>\n",
       "    <tr>\n",
       "      <th>top</th>\n",
       "      <td>Andrew Wang</td>\n",
       "      <td>he/him/his</td>\n",
       "      <td>Hey I'm Matt! I'm a second-year EECS major fro...</td>\n",
       "      <td>fa22</td>\n",
       "    </tr>\n",
       "    <tr>\n",
       "      <th>freq</th>\n",
       "      <td>2</td>\n",
       "      <td>389</td>\n",
       "      <td>2</td>\n",
       "      <td>144</td>\n",
       "    </tr>\n",
       "  </tbody>\n",
       "</table>\n",
       "</div>"
      ],
      "text/plain": [
       "               name     pronoun   \n",
       "count           626         626  \\\n",
       "unique          620           7   \n",
       "top     Andrew Wang  he/him/his   \n",
       "freq              2         389   \n",
       "\n",
       "                                                      bio semester  \n",
       "count                                                 558      626  \n",
       "unique                                                557        6  \n",
       "top     Hey I'm Matt! I'm a second-year EECS major fro...     fa22  \n",
       "freq                                                    2      144  "
      ]
     },
     "execution_count": 11,
     "metadata": {},
     "output_type": "execute_result"
    }
   ],
   "source": [
    "# remove rows with null pronouns\n",
    "ai_61a_df = ai_61a_df[~ai_61a_df['pronoun'].isna()]\n",
    "\n",
    "# check removal\n",
    "ai_61a_df.describe()"
   ]
  },
  {
   "attachments": {},
   "cell_type": "markdown",
   "metadata": {},
   "source": [
    "Removal looks successful. I want to conduct some more exploration, like determining the proportion of male to female AIs and seeing how the proportion changes when grouped by semester. But to do all this I'm going to have to move on to feature engineering."
   ]
  },
  {
   "attachments": {},
   "cell_type": "markdown",
   "metadata": {},
   "source": [
    "## Feature Engineering and Analysis"
   ]
  },
  {
   "attachments": {},
   "cell_type": "markdown",
   "metadata": {},
   "source": [
    "I want to start creating a new feature `gender` with my `pronoun` column, more specifically, I'm going to create a mapping:\n",
    "* 'he/him/his' -> 'male'\n",
    "* 'she/her/hers' -> 'female'\n",
    "* everything else -> 'other'\n",
    "\n",
    "But to perform the third mapping, I'm going to have to see what \"everything else\" consists of:"
   ]
  },
  {
   "cell_type": "code",
   "execution_count": 12,
   "metadata": {},
   "outputs": [
    {
     "data": {
      "text/html": [
       "<div>\n",
       "<style scoped>\n",
       "    .dataframe tbody tr th:only-of-type {\n",
       "        vertical-align: middle;\n",
       "    }\n",
       "\n",
       "    .dataframe tbody tr th {\n",
       "        vertical-align: top;\n",
       "    }\n",
       "\n",
       "    .dataframe thead th {\n",
       "        text-align: right;\n",
       "    }\n",
       "</style>\n",
       "<table border=\"1\" class=\"dataframe\">\n",
       "  <thead>\n",
       "    <tr style=\"text-align: right;\">\n",
       "      <th></th>\n",
       "      <th>name</th>\n",
       "      <th>pronoun</th>\n",
       "      <th>bio</th>\n",
       "      <th>semester</th>\n",
       "    </tr>\n",
       "  </thead>\n",
       "  <tbody>\n",
       "    <tr>\n",
       "      <th>159</th>\n",
       "      <td>Camille Lojewski</td>\n",
       "      <td>they/them/theirs</td>\n",
       "      <td>I took PreCalculus over summer and was so bore...</td>\n",
       "      <td>fa22</td>\n",
       "    </tr>\n",
       "    <tr>\n",
       "      <th>248</th>\n",
       "      <td>Sasha Sato</td>\n",
       "      <td>ey/they/he/she</td>\n",
       "      <td>In addition to helping people understand compu...</td>\n",
       "      <td>fa22</td>\n",
       "    </tr>\n",
       "    <tr>\n",
       "      <th>274</th>\n",
       "      <td>Winston Li</td>\n",
       "      <td>comrade</td>\n",
       "      <td>My friend asked me to help him round up his 37...</td>\n",
       "      <td>fa22</td>\n",
       "    </tr>\n",
       "    <tr>\n",
       "      <th>410</th>\n",
       "      <td>Anand</td>\n",
       "      <td>he/they</td>\n",
       "      <td>Hi! I'm Anand a rising junior majoring in EECS...</td>\n",
       "      <td>su22</td>\n",
       "    </tr>\n",
       "    <tr>\n",
       "      <th>439</th>\n",
       "      <td>Max Bograd</td>\n",
       "      <td>they/them/theirs</td>\n",
       "      <td>NaN</td>\n",
       "      <td>su22</td>\n",
       "    </tr>\n",
       "    <tr>\n",
       "      <th>449</th>\n",
       "      <td>Rohan Goyal</td>\n",
       "      <td>he/they</td>\n",
       "      <td>Hello there! I'm a rising sophomore (intended ...</td>\n",
       "      <td>su22</td>\n",
       "    </tr>\n",
       "    <tr>\n",
       "      <th>620</th>\n",
       "      <td>Jordan Schwartz</td>\n",
       "      <td>she/they</td>\n",
       "      <td>Hey! I'm Jordan and I'm a first year from the ...</td>\n",
       "      <td>sp21</td>\n",
       "    </tr>\n",
       "  </tbody>\n",
       "</table>\n",
       "</div>"
      ],
      "text/plain": [
       "                 name           pronoun   \n",
       "159  Camille Lojewski  they/them/theirs  \\\n",
       "248        Sasha Sato    ey/they/he/she   \n",
       "274        Winston Li          comrade    \n",
       "410             Anand           he/they   \n",
       "439        Max Bograd  they/them/theirs   \n",
       "449       Rohan Goyal           he/they   \n",
       "620   Jordan Schwartz          she/they   \n",
       "\n",
       "                                                   bio semester  \n",
       "159  I took PreCalculus over summer and was so bore...     fa22  \n",
       "248  In addition to helping people understand compu...     fa22  \n",
       "274  My friend asked me to help him round up his 37...     fa22  \n",
       "410  Hi! I'm Anand a rising junior majoring in EECS...     su22  \n",
       "439                                                NaN     su22  \n",
       "449  Hello there! I'm a rising sophomore (intended ...     su22  \n",
       "620  Hey! I'm Jordan and I'm a first year from the ...     sp21  "
      ]
     },
     "execution_count": 12,
     "metadata": {},
     "output_type": "execute_result"
    }
   ],
   "source": [
    "# Filter for pronouns falling under \"everything else\"\n",
    "ai_61a_df[~((ai_61a_df['pronoun']=='he/him/his') | (ai_61a_df['pronoun']=='she/her/hers'))]"
   ]
  },
  {
   "attachments": {},
   "cell_type": "markdown",
   "metadata": {},
   "source": [
    "I see comrade makes a return...\n",
    "\n",
    "On second thought, there are only $7$ entries here (I might've unintentionally created a diversity indicator for AIs in Berkeley's CS department...); there shouldn't be any harm in removing them. At the end of the day, my question doesn't really concern this subset of people, so their data wouldn't have been used either way. I proceed to remove them:"
   ]
  },
  {
   "cell_type": "code",
   "execution_count": 13,
   "metadata": {},
   "outputs": [
    {
     "data": {
      "text/html": [
       "<div>\n",
       "<style scoped>\n",
       "    .dataframe tbody tr th:only-of-type {\n",
       "        vertical-align: middle;\n",
       "    }\n",
       "\n",
       "    .dataframe tbody tr th {\n",
       "        vertical-align: top;\n",
       "    }\n",
       "\n",
       "    .dataframe thead th {\n",
       "        text-align: right;\n",
       "    }\n",
       "</style>\n",
       "<table border=\"1\" class=\"dataframe\">\n",
       "  <thead>\n",
       "    <tr style=\"text-align: right;\">\n",
       "      <th></th>\n",
       "      <th>name</th>\n",
       "      <th>pronoun</th>\n",
       "      <th>bio</th>\n",
       "      <th>semester</th>\n",
       "    </tr>\n",
       "  </thead>\n",
       "  <tbody>\n",
       "    <tr>\n",
       "      <th>0</th>\n",
       "      <td>Aakarsh Vermani</td>\n",
       "      <td>he/him/his</td>\n",
       "      <td>Hey I'm Aakarsh and I'm from San Diego. Freshm...</td>\n",
       "      <td>sp23</td>\n",
       "    </tr>\n",
       "    <tr>\n",
       "      <th>1</th>\n",
       "      <td>Aarnav Sanghvi</td>\n",
       "      <td>he/him/his</td>\n",
       "      <td>Yo what's up! I'm Aarnav a first year EECS stu...</td>\n",
       "      <td>sp23</td>\n",
       "    </tr>\n",
       "    <tr>\n",
       "      <th>2</th>\n",
       "      <td>Aaron Ha</td>\n",
       "      <td>he/him/his</td>\n",
       "      <td>Hi! I'm Aaron an intended CS major from South ...</td>\n",
       "      <td>sp23</td>\n",
       "    </tr>\n",
       "    <tr>\n",
       "      <th>3</th>\n",
       "      <td>Aaryan Chandna</td>\n",
       "      <td>he/him/his</td>\n",
       "      <td>Hi! I'm Aaryan a freshman from the Detroit Are...</td>\n",
       "      <td>sp23</td>\n",
       "    </tr>\n",
       "    <tr>\n",
       "      <th>4</th>\n",
       "      <td>Abtin Khashayar</td>\n",
       "      <td>he/him/his</td>\n",
       "      <td>Hello! My name is Abtin and I am a freshman fr...</td>\n",
       "      <td>sp23</td>\n",
       "    </tr>\n",
       "    <tr>\n",
       "      <th>...</th>\n",
       "      <td>...</td>\n",
       "      <td>...</td>\n",
       "      <td>...</td>\n",
       "      <td>...</td>\n",
       "    </tr>\n",
       "    <tr>\n",
       "      <th>638</th>\n",
       "      <td>Shiny Weng</td>\n",
       "      <td>she/her/hers</td>\n",
       "      <td>hi! i'm shiny a first-year studying cs and sta...</td>\n",
       "      <td>sp21</td>\n",
       "    </tr>\n",
       "    <tr>\n",
       "      <th>639</th>\n",
       "      <td>Shreyas Swaminathan</td>\n",
       "      <td>he/him/his</td>\n",
       "      <td>1st year intended CS and Applied Math Major. I...</td>\n",
       "      <td>sp21</td>\n",
       "    </tr>\n",
       "    <tr>\n",
       "      <th>640</th>\n",
       "      <td>SooHyuk Cho</td>\n",
       "      <td>he/him/his</td>\n",
       "      <td>Hello everyone! I'm SooHyuk a first-year inten...</td>\n",
       "      <td>sp21</td>\n",
       "    </tr>\n",
       "    <tr>\n",
       "      <th>641</th>\n",
       "      <td>Yash Bhargava</td>\n",
       "      <td>he/him/his</td>\n",
       "      <td>Hey Everyone! My name is Yash and I am from Sa...</td>\n",
       "      <td>sp21</td>\n",
       "    </tr>\n",
       "    <tr>\n",
       "      <th>642</th>\n",
       "      <td>Yu Xi Gui</td>\n",
       "      <td>she/her/hers</td>\n",
       "      <td>Hiii! I am a 2nd year CS major from Bellevue W...</td>\n",
       "      <td>sp21</td>\n",
       "    </tr>\n",
       "  </tbody>\n",
       "</table>\n",
       "<p>619 rows × 4 columns</p>\n",
       "</div>"
      ],
      "text/plain": [
       "                    name       pronoun   \n",
       "0        Aakarsh Vermani    he/him/his  \\\n",
       "1         Aarnav Sanghvi    he/him/his   \n",
       "2               Aaron Ha    he/him/his   \n",
       "3         Aaryan Chandna    he/him/his   \n",
       "4        Abtin Khashayar    he/him/his   \n",
       "..                   ...           ...   \n",
       "638           Shiny Weng  she/her/hers   \n",
       "639  Shreyas Swaminathan    he/him/his   \n",
       "640          SooHyuk Cho    he/him/his   \n",
       "641        Yash Bhargava    he/him/his   \n",
       "642            Yu Xi Gui  she/her/hers   \n",
       "\n",
       "                                                   bio semester  \n",
       "0    Hey I'm Aakarsh and I'm from San Diego. Freshm...     sp23  \n",
       "1    Yo what's up! I'm Aarnav a first year EECS stu...     sp23  \n",
       "2    Hi! I'm Aaron an intended CS major from South ...     sp23  \n",
       "3    Hi! I'm Aaryan a freshman from the Detroit Are...     sp23  \n",
       "4    Hello! My name is Abtin and I am a freshman fr...     sp23  \n",
       "..                                                 ...      ...  \n",
       "638  hi! i'm shiny a first-year studying cs and sta...     sp21  \n",
       "639  1st year intended CS and Applied Math Major. I...     sp21  \n",
       "640  Hello everyone! I'm SooHyuk a first-year inten...     sp21  \n",
       "641  Hey Everyone! My name is Yash and I am from Sa...     sp21  \n",
       "642  Hiii! I am a 2nd year CS major from Bellevue W...     sp21  \n",
       "\n",
       "[619 rows x 4 columns]"
      ]
     },
     "execution_count": 13,
     "metadata": {},
     "output_type": "execute_result"
    }
   ],
   "source": [
    "# Remove rows with non-binary pronouns\n",
    "ai_61a_df = ai_61a_df[(ai_61a_df['pronoun']=='he/him/his') | (ai_61a_df['pronoun']=='she/her/hers')]\n",
    "ai_61a_df"
   ]
  },
  {
   "attachments": {},
   "cell_type": "markdown",
   "metadata": {},
   "source": [
    "Removal looks successful, $626-7=619$. Now, time to proceed to the mapping. To do so, I use a dictionary with my desired mapping and the pandas function [`pandas.Series.map`](https://pandas.pydata.org/docs/reference/api/pandas.Series.map.html).\n",
    "\n",
    "At the end of the day, this change is just changing one set of strings to another set of strings, the data type doesn't even change. I'm still going to do it though. Personally, it's just easier for me to work with my data this way."
   ]
  },
  {
   "cell_type": "code",
   "execution_count": 14,
   "metadata": {},
   "outputs": [
    {
     "data": {
      "text/html": [
       "<div>\n",
       "<style scoped>\n",
       "    .dataframe tbody tr th:only-of-type {\n",
       "        vertical-align: middle;\n",
       "    }\n",
       "\n",
       "    .dataframe tbody tr th {\n",
       "        vertical-align: top;\n",
       "    }\n",
       "\n",
       "    .dataframe thead th {\n",
       "        text-align: right;\n",
       "    }\n",
       "</style>\n",
       "<table border=\"1\" class=\"dataframe\">\n",
       "  <thead>\n",
       "    <tr style=\"text-align: right;\">\n",
       "      <th></th>\n",
       "      <th>name</th>\n",
       "      <th>pronoun</th>\n",
       "      <th>bio</th>\n",
       "      <th>semester</th>\n",
       "      <th>gender</th>\n",
       "    </tr>\n",
       "  </thead>\n",
       "  <tbody>\n",
       "    <tr>\n",
       "      <th>0</th>\n",
       "      <td>Aakarsh Vermani</td>\n",
       "      <td>he/him/his</td>\n",
       "      <td>Hey I'm Aakarsh and I'm from San Diego. Freshm...</td>\n",
       "      <td>sp23</td>\n",
       "      <td>male</td>\n",
       "    </tr>\n",
       "    <tr>\n",
       "      <th>1</th>\n",
       "      <td>Aarnav Sanghvi</td>\n",
       "      <td>he/him/his</td>\n",
       "      <td>Yo what's up! I'm Aarnav a first year EECS stu...</td>\n",
       "      <td>sp23</td>\n",
       "      <td>male</td>\n",
       "    </tr>\n",
       "    <tr>\n",
       "      <th>2</th>\n",
       "      <td>Aaron Ha</td>\n",
       "      <td>he/him/his</td>\n",
       "      <td>Hi! I'm Aaron an intended CS major from South ...</td>\n",
       "      <td>sp23</td>\n",
       "      <td>male</td>\n",
       "    </tr>\n",
       "    <tr>\n",
       "      <th>3</th>\n",
       "      <td>Aaryan Chandna</td>\n",
       "      <td>he/him/his</td>\n",
       "      <td>Hi! I'm Aaryan a freshman from the Detroit Are...</td>\n",
       "      <td>sp23</td>\n",
       "      <td>male</td>\n",
       "    </tr>\n",
       "    <tr>\n",
       "      <th>4</th>\n",
       "      <td>Abtin Khashayar</td>\n",
       "      <td>he/him/his</td>\n",
       "      <td>Hello! My name is Abtin and I am a freshman fr...</td>\n",
       "      <td>sp23</td>\n",
       "      <td>male</td>\n",
       "    </tr>\n",
       "    <tr>\n",
       "      <th>...</th>\n",
       "      <td>...</td>\n",
       "      <td>...</td>\n",
       "      <td>...</td>\n",
       "      <td>...</td>\n",
       "      <td>...</td>\n",
       "    </tr>\n",
       "    <tr>\n",
       "      <th>638</th>\n",
       "      <td>Shiny Weng</td>\n",
       "      <td>she/her/hers</td>\n",
       "      <td>hi! i'm shiny a first-year studying cs and sta...</td>\n",
       "      <td>sp21</td>\n",
       "      <td>female</td>\n",
       "    </tr>\n",
       "    <tr>\n",
       "      <th>639</th>\n",
       "      <td>Shreyas Swaminathan</td>\n",
       "      <td>he/him/his</td>\n",
       "      <td>1st year intended CS and Applied Math Major. I...</td>\n",
       "      <td>sp21</td>\n",
       "      <td>male</td>\n",
       "    </tr>\n",
       "    <tr>\n",
       "      <th>640</th>\n",
       "      <td>SooHyuk Cho</td>\n",
       "      <td>he/him/his</td>\n",
       "      <td>Hello everyone! I'm SooHyuk a first-year inten...</td>\n",
       "      <td>sp21</td>\n",
       "      <td>male</td>\n",
       "    </tr>\n",
       "    <tr>\n",
       "      <th>641</th>\n",
       "      <td>Yash Bhargava</td>\n",
       "      <td>he/him/his</td>\n",
       "      <td>Hey Everyone! My name is Yash and I am from Sa...</td>\n",
       "      <td>sp21</td>\n",
       "      <td>male</td>\n",
       "    </tr>\n",
       "    <tr>\n",
       "      <th>642</th>\n",
       "      <td>Yu Xi Gui</td>\n",
       "      <td>she/her/hers</td>\n",
       "      <td>Hiii! I am a 2nd year CS major from Bellevue W...</td>\n",
       "      <td>sp21</td>\n",
       "      <td>female</td>\n",
       "    </tr>\n",
       "  </tbody>\n",
       "</table>\n",
       "<p>619 rows × 5 columns</p>\n",
       "</div>"
      ],
      "text/plain": [
       "                    name       pronoun   \n",
       "0        Aakarsh Vermani    he/him/his  \\\n",
       "1         Aarnav Sanghvi    he/him/his   \n",
       "2               Aaron Ha    he/him/his   \n",
       "3         Aaryan Chandna    he/him/his   \n",
       "4        Abtin Khashayar    he/him/his   \n",
       "..                   ...           ...   \n",
       "638           Shiny Weng  she/her/hers   \n",
       "639  Shreyas Swaminathan    he/him/his   \n",
       "640          SooHyuk Cho    he/him/his   \n",
       "641        Yash Bhargava    he/him/his   \n",
       "642            Yu Xi Gui  she/her/hers   \n",
       "\n",
       "                                                   bio semester  gender  \n",
       "0    Hey I'm Aakarsh and I'm from San Diego. Freshm...     sp23    male  \n",
       "1    Yo what's up! I'm Aarnav a first year EECS stu...     sp23    male  \n",
       "2    Hi! I'm Aaron an intended CS major from South ...     sp23    male  \n",
       "3    Hi! I'm Aaryan a freshman from the Detroit Are...     sp23    male  \n",
       "4    Hello! My name is Abtin and I am a freshman fr...     sp23    male  \n",
       "..                                                 ...      ...     ...  \n",
       "638  hi! i'm shiny a first-year studying cs and sta...     sp21  female  \n",
       "639  1st year intended CS and Applied Math Major. I...     sp21    male  \n",
       "640  Hello everyone! I'm SooHyuk a first-year inten...     sp21    male  \n",
       "641  Hey Everyone! My name is Yash and I am from Sa...     sp21    male  \n",
       "642  Hiii! I am a 2nd year CS major from Bellevue W...     sp21  female  \n",
       "\n",
       "[619 rows x 5 columns]"
      ]
     },
     "execution_count": 14,
     "metadata": {},
     "output_type": "execute_result"
    }
   ],
   "source": [
    "# Establish mapping\n",
    "pronoun_to_gender_dict = {\"he/him/his\":\"male\", \"she/her/hers\": \"female\"}\n",
    "\n",
    "# perform replacement\n",
    "ai_61a_df['gender'] = ai_61a_df['pronoun'].map(pronoun_to_gender_dict)\n",
    "ai_61a_df"
   ]
  },
  {
   "attachments": {},
   "cell_type": "markdown",
   "metadata": {},
   "source": [
    "With this new feature added, I can take a look at the proportion of male to female students and compute the percentage difference using a formula from this [site](https://www.omnicalculator.com/math/percentage-difference). Additionally, I decided to use [`seaborn.barplot`](https://seaborn.pydata.org/generated/seaborn.barplot.html) to help with visualization."
   ]
  },
  {
   "cell_type": "code",
   "execution_count": 48,
   "metadata": {},
   "outputs": [],
   "source": [
    "# Python function that takes in a DataFrame and a binary group label\n",
    "# Will print the count proportion of each group, compute and print the\n",
    "# percentage difference between the two values, and display a barplot visualization\n",
    "# Returns a tuple containing the group proportions in alphabetical order and the percent diff\n",
    "# Example: if `binary_group=gender`, then the 0th element is `female` proportion\n",
    "# and the 1st element would be `male` proportion, and third element is percent diff\n",
    "def compute_proportion_and_visualize(df, binary_group, visualize=False):\n",
    "\n",
    "    # Helper function to compute percentage difference with formula from:\n",
    "    # https://www.omnicalculator.com/math/percentage-difference\n",
    "    # Takes in a x and y and calculates the percentage difference of those two values\n",
    "    def percent_difference(x, y):\n",
    "        percent_diff = abs(x - y) / ((x + y)/2)*100\n",
    "        return percent_diff\n",
    "\n",
    "    \n",
    "    # compute proportions and display thereof\n",
    "    binary_group_series = df.groupby(binary_group).size()\n",
    "    group_0_proportion = binary_group_series.values[0]/sum(binary_group_series.values)\n",
    "    group_1_proportion = binary_group_series.values[1]/sum(binary_group_series.values)\n",
    "    print(\"{} proportion: {:.2f}\".format(binary_group_series.index[0], group_0_proportion))\n",
    "    print(\"{} proportion: {:.2f}\".format(binary_group_series.index[1], group_1_proportion))\n",
    "\n",
    "    # call helper percent_difference to display percentage difference\n",
    "    percent_diff = percent_difference(group_0_proportion, group_1_proportion)\n",
    "    print(\"percentage difference: {:.0f}%\".format(percent_diff))\n",
    "\n",
    "    # visualize with seaborn.barplot\n",
    "    if (visualize):\n",
    "        plt.title('Count of {} hires for CS61A AI in Recent Semesters'.format(binary_group_series.index.name))\n",
    "        sns.barplot(x=binary_group_series.index, y=binary_group_series.values)\n",
    "        plt.ylabel('count')\n",
    "        plt.show()\n",
    "\n",
    "    # return the tuple of group proportions\n",
    "    return (group_0_proportion, group_1_proportion, percent_diff)"
   ]
  },
  {
   "cell_type": "code",
   "execution_count": 49,
   "metadata": {},
   "outputs": [
    {
     "name": "stdout",
     "output_type": "stream",
     "text": [
      "female proportion: 0.37\n",
      "male proportion: 0.63\n",
      "percentage difference: 51%\n"
     ]
    },
    {
     "data": {
      "image/png": "[encoded data removed]",
      "text/plain": [
       "<Figure size 640x480 with 1 Axes>"
      ]
     },
     "metadata": {},
     "output_type": "display_data"
    }
   ],
   "source": [
    "# Call compute_proportion_and_visualize\n",
    "overall_female_proportion, overall_male_proportion, overall_percent_diff = compute_proportion_and_visualize(ai_61a_df, 'gender', True)"
   ]
  },
  {
   "attachments": {},
   "cell_type": "markdown",
   "metadata": {},
   "source": [
    "Well then, if this isn't already pretty clear. There is clearly a higher proportion of male to female AIs in CS61A. A proportion of $0.37$ females to $0.63$, resulting in a percentage difference of $51\\%$.\n",
    "\n",
    "I want to see how this data will change when grouped by semester, `sem`. Has the percetage difference changed over the semesters, or has it largely stayed the same? To answer the chronological aspect of this question, I will use a manually ordered list of available semesters:\n",
    "\n",
    "`sem_list = ['sp21', 'fa21', 'sp22', 'su22', 'fa22', 'sp23']`"
   ]
  },
  {
   "cell_type": "code",
   "execution_count": 53,
   "metadata": {},
   "outputs": [],
   "source": [
    "# instantiate chronologically correct semester list\n",
    "sem_list = ['sp21', 'fa21', 'sp22', 'su22', 'fa22', 'sp23']\n",
    "\n",
    "# Python function that takes in a pandas DataFrame `df`, the name of the filter `filter_feature`\n",
    "# a list of all the possible filters `filter_list`, and lastly a binary_group to past into \n",
    "# `compute_proportion_and_visualize`. This previously implemented function is called on each\n",
    "# filter group with the passed in `binary_group`\n",
    "# Returns a list containing the tuples of each proportion pair. Number of pairs is dependent on\n",
    "# the number of filter_groups in filter_list.\n",
    "def proportion_analysis_summary(df, filter_feature, filter_list, binary_group):\n",
    "\n",
    "    # instantiate list to append to\n",
    "    proportion_pair_list = []\n",
    "    \n",
    "    # loop through each filter group\n",
    "    for filter_group in filter_list:\n",
    "        curr_df = df[df[filter_feature]==filter_group] # filter for the current filter group in the loop\n",
    "        \n",
    "        # print time of current filter group\n",
    "        print(\"time: {}\".format(filter_group))\n",
    "        \n",
    "        # call `compute_proportion_and_visualize` on curr_df and save the tuple\n",
    "        curr_tuple = compute_proportion_and_visualize(curr_df, binary_group)\n",
    "\n",
    "        # append curr_tuple to list\n",
    "        proportion_pair_list.append(curr_tuple)\n",
    "        print('-----------------------\\n') # formatting\n",
    "\n",
    "    # return final list\n",
    "    return proportion_pair_list"
   ]
  },
  {
   "cell_type": "code",
   "execution_count": 54,
   "metadata": {},
   "outputs": [
    {
     "name": "stdout",
     "output_type": "stream",
     "text": [
      "time: sp21\n",
      "female proportion: 0.41\n",
      "male proportion: 0.59\n",
      "percentage difference: 37%\n",
      "-----------------------\n",
      "\n",
      "time: fa21\n",
      "female proportion: 0.42\n",
      "male proportion: 0.58\n",
      "percentage difference: 30%\n",
      "-----------------------\n",
      "\n",
      "time: sp22\n",
      "female proportion: 0.32\n",
      "male proportion: 0.68\n",
      "percentage difference: 72%\n",
      "-----------------------\n",
      "\n",
      "time: su22\n",
      "female proportion: 0.31\n",
      "male proportion: 0.69\n",
      "percentage difference: 75%\n",
      "-----------------------\n",
      "\n",
      "time: fa22\n",
      "female proportion: 0.40\n",
      "male proportion: 0.60\n",
      "percentage difference: 41%\n",
      "-----------------------\n",
      "\n",
      "time: sp23\n",
      "female proportion: 0.35\n",
      "male proportion: 0.65\n",
      "percentage difference: 61%\n",
      "-----------------------\n",
      "\n"
     ]
    },
    {
     "data": {
      "text/plain": [
       "<Axes: xlabel='count', ylabel='semester'>"
      ]
     },
     "execution_count": 54,
     "metadata": {},
     "output_type": "execute_result"
    },
    {
     "data": {
      "image/png": "[encoded data removed]",
      "text/plain": [
       "<Figure size 640x480 with 1 Axes>"
      ]
     },
     "metadata": {},
     "output_type": "display_data"
    }
   ],
   "source": [
    "# Call bar_analysis\n",
    "sem_gender_proportion_tuple_list = proportion_analysis_summary(ai_61a_df, 'semester', sem_list, 'gender')\n",
    "\n",
    "# visualize\n",
    "plt.title()\n",
    "sns.countplot(data=ai_61a_df, y='semester', hue='gender')"
   ]
  },
  {
   "cell_type": "code",
   "execution_count": null,
   "metadata": {},
   "outputs": [],
   "source": []
  },
  {
   "attachments": {},
   "cell_type": "markdown",
   "metadata": {},
   "source": [
    "Interesting. It is clearly the case the proportion of male AIs have always been greater than that of female AIs. Since I'm dealing with time, I want to visualize with a [lineplot](https://matplotlib.org/stable/api/_as_gen/matplotlib.pyplot.plot.html). I want to see how each proportion and the percentage difference has changed over time.\n",
    "\n",
    "To do this though I need to somehow convert my semester values in `sem_list` into a scalar, since lineplots cannot take in non-scalar values. To do so, I propose the following mapping:\n",
    "\n",
    "`['sp21', 'fa21', 'sp22', 'su22', 'fa22', 'sp23']` -> `[0, 1, 2, 3, 4, 5]`\n",
    "\n",
    "Simple, but it should work."
   ]
  },
  {
   "cell_type": "code",
   "execution_count": 19,
   "metadata": {},
   "outputs": [],
   "source": [
    "scalar_sem_list = [0, 1, 2, 3, 4, 5]\n",
    "\n",
    "# Function that displays a lineplot of change in proportion and percentage diff\n",
    "# of a binary_group in df. df and binary_group are passed in for display header purposes\n",
    "# it's needed to properly format title and labels\n",
    "def chrono_analysis(df, binary_group, proportion_tuple_list, time):\n",
    "    # get proper labels\n",
    "    binary_group_series = df.groupby(binary_group).size()\n",
    "    group_0_label = binary_group_series.index[0]\n",
    "    group_1_label = binary_group_series.index[1]\n",
    "\n",
    "    # instantiate empty lists to store data for plotting\n",
    "    chrono_group_0 = []\n",
    "    chrono_group_1 = []\n",
    "    chrono_proportion_diff = []\n",
    "    for tuple in proportion_tuple_list:\n",
    "        ### tuple structure: ###\n",
    "        # 0: group 0 proportion\n",
    "        # 1: group 1 proportion\n",
    "        # 2: percentage difference\n",
    "\n",
    "        # append the data as a list pair to the previously instantiated lists\n",
    "        chrono_group_0.append(tuple[0]) # group 0 proportions\n",
    "        chrono_group_1.append(tuple[1]) # group 1 proportions\n",
    "        chrono_proportion_diff.append(tuple[2]/100) # percentages, divide by 100 to get proportion\n",
    "\n",
    "    # Smooth the data using scipy.make_interp_spline\n",
    "    # Helper function to smooth the data, drew inspiration from: \n",
    "    # https://www.geeksforgeeks.org/how-to-plot-a-smooth-curve-in-matplotlib/#\n",
    "    def smooth_data_plot(x, y, line_color, line_label):\n",
    "        x_y_spline = make_interp_spline(x, y)\n",
    "        x_smooth = np.linspace(min(x), max(x), 500)\n",
    "        y_smooth = x_y_spline(x_smooth)\n",
    "\n",
    "        # plot smooted data\n",
    "        plt.plot(x_smooth, y_smooth, color=line_color, label=line_label)\n",
    "\n",
    "    ### Non-smoothed plots ###\n",
    "    # plt.plot(time, chrono_group_0, color='red', label=group_0_label)\n",
    "    # plt.plot(time, chrono_group_1, color='blue', label=group_1_label)\n",
    "    # plt.plot(time, chrono_proportion_diff, color='green', label='difference')\n",
    "\n",
    "    # call helper function for each group\n",
    "    smooth_data_plot(time, chrono_group_0, 'red', group_0_label)\n",
    "    smooth_data_plot(time, chrono_group_1, 'blue', group_1_label)\n",
    "    smooth_data_plot(time, chrono_proportion_diff, 'green', 'difference')\n",
    "\n",
    "    # format plot\n",
    "    plt.title(\"Proportion of Gender Hires for CS61A AI\")\n",
    "    plt.grid()\n",
    "    plt.legend()\n",
    "    plt.xlabel('Time')\n",
    "    plt.ylabel('Proportion')\n",
    "    plt.ylim(bottom=0) # want to show origin point\n",
    "    plt.show()    "
   ]
  },
  {
   "cell_type": "code",
   "execution_count": 20,
   "metadata": {},
   "outputs": [
    {
     "data": {
      "image/png": "[encoded data removed]",
      "text/plain": [
       "<Figure size 640x480 with 1 Axes>"
      ]
     },
     "metadata": {},
     "output_type": "display_data"
    }
   ],
   "source": [
    "# call chrono_analysis\n",
    "chrono_analysis(ai_61a_df, 'gender', sem_gender_proportion_tuple_list, scalar_sem_list)"
   ]
  },
  {
   "attachments": {},
   "cell_type": "markdown",
   "metadata": {},
   "source": [
    "From the plot, it appears that gender diversity has largely stayed stagnant, if not gotten worse, in recent semesters. There was a slight dip in difference proportion at time $4$, Fall 2022 semester, but the male AI proportion quickly bounced back in the most recent semester, Spring 2023.\n",
    "\n",
    "How do you increase women representation in CS? I'm sure this is a complex problem, and I don't think I know nearly enough about it to warrant an educated opinion. I guess there's a reason why there are programs and scholarships more widely available for women stem.\n",
    "\n",
    "Regardless, finally moving on to my main question."
   ]
  },
  {
   "attachments": {},
   "cell_type": "markdown",
   "metadata": {},
   "source": [
    "## Feature Engineering and Analysis (Main Question)"
   ]
  },
  {
   "attachments": {},
   "cell_type": "markdown",
   "metadata": {},
   "source": [
    "### Project Motivations and Hypothesis"
   ]
  },
  {
   "attachments": {},
   "cell_type": "markdown",
   "metadata": {},
   "source": [
    "Over the years, with my various interactions with my fellow peers and students, I've come to notice that women are more likely to send messages in *all lowercase*. Why does this happen? My personal theory is as follows:\n",
    "\n",
    "Women write in all lowercase because:\n",
    "\n",
    "1. Gives off cute e-girl doki-doki uwu vibe\n",
    "2. Relays a feeling of gentleness, giving them a *softer* tone, ultimately making them seem more approachable and nice\n",
    "\n",
    "I've share this observation of mine with some friends, some have agreed but some also claim to not have noticed or don't think that's the case; hence born the motivation for this project. I want to show that from just the CS61A AI page alone, the girl AIs are more likely to use lowercase to communicate than the guys.\n",
    "\n",
    "But the page is in an academic setting, and writing messages in an **all** lowercase form is very rare. No, this is not an excuse for me to fall back on in case my theory fails. The reason why it's rare is because classes are often capitalized, like CS61A. Immediately this would destroy the *all* quantifier of my statement. In addition, majors names are often capitalized or abbreviated with their initials, like CS and EECS. Thus, to actually make this project worth the effort I've put in so far, I want to propose a modified version of the previous statement, presented in the form of a hypothesis:\n",
    "\n",
    "**Hypothesis:** Women are more likely to *not use* proper case in messages than their male counterparts.\n",
    "\n",
    "There's a change in diction here, *lowercase* vs *proper case*. In a way this kind of changes the argument, but I would argue they manifest in the same way. Outside of proper nouns and abbreviations, capital letters are only ever used at the beginning of a sentence, so commonly after a period. Thus, my hypothesis is saying that since women are more likely to use lowercase, they are also less liekly to be using proper case.\n",
    "\n",
    "So how would I test for this? I do not know of any traditional method that I have learned in school that would do this, maybe because a question such as this probably really isn't even worth answering since it provides no benefit to society. A/B testing? Modeling? None of these apply. Machine learning to determine message patterns in women vs men, yeah definitely possible and probably the better way to approach this project, but that's beyond my knowledge and probably not worth the effort (like I said, zero benefit to society).\n",
    "\n",
    "So I'm just going to approach tackle this question my own way. By no means is this going to be a definitive, undisputable answer, it's just going to be evidence that may or may not lean towards my hypothesis. With that said, I am going to extrapolate, or technically in this case feature engineer, the *letter case percentage composition* of all the AIs I have scraped from CS61A.\n",
    "\n",
    "What is *letter case percentage composition*? I made it up. Previously, I was thinking of just calling the percentage of lowercase letters in women's messages, but that is just way to verbose and it doesn't sound smart. So I racked what little passion I have for chemistry left (passionate in highschool, now the subject is dead to me) and looked to [wikipedia for inspiration](https://en.wikipedia.org/wiki/Letter_case) and arrived at this term. Thus, its formal definition:\n",
    "\n",
    "**letter case percentage composition** (LCPC)\n",
    "\n",
    "*noun*\n",
    "\n",
    "1. in the context of a message, the manner of being composed; makeup; constitution; quantified in percentage of upper and lowercase letters.\n",
    "\n",
    "In layman's terms, given a message, what is the percentage of upper and lowercase letters.\n",
    "\n",
    "With all that said, let me get started on just that."
   ]
  },
  {
   "attachments": {},
   "cell_type": "markdown",
   "metadata": {},
   "source": [
    "### Feature Engineering - Letter Case Percentage Composition"
   ]
  },
  {
   "attachments": {},
   "cell_type": "markdown",
   "metadata": {},
   "source": [
    "To compute percentage composition, I need to get a character count for each AI's bio. But before I do that, I need to clean their bio up a little bit more, since it is being inflated by whitespace characters and punctuation. I can do that quite simply with regex, specifically [`pandas.Series.str.replace`](https://pandas.pydata.org/docs/reference/api/pandas.Series.str.replace.html):"
   ]
  },
  {
   "cell_type": "code",
   "execution_count": 21,
   "metadata": {},
   "outputs": [
    {
     "data": {
      "text/html": [
       "<div>\n",
       "<style scoped>\n",
       "    .dataframe tbody tr th:only-of-type {\n",
       "        vertical-align: middle;\n",
       "    }\n",
       "\n",
       "    .dataframe tbody tr th {\n",
       "        vertical-align: top;\n",
       "    }\n",
       "\n",
       "    .dataframe thead th {\n",
       "        text-align: right;\n",
       "    }\n",
       "</style>\n",
       "<table border=\"1\" class=\"dataframe\">\n",
       "  <thead>\n",
       "    <tr style=\"text-align: right;\">\n",
       "      <th></th>\n",
       "      <th>name</th>\n",
       "      <th>pronoun</th>\n",
       "      <th>bio</th>\n",
       "      <th>semester</th>\n",
       "      <th>gender</th>\n",
       "      <th>clean_bio</th>\n",
       "    </tr>\n",
       "  </thead>\n",
       "  <tbody>\n",
       "    <tr>\n",
       "      <th>0</th>\n",
       "      <td>Aakarsh Vermani</td>\n",
       "      <td>he/him/his</td>\n",
       "      <td>Hey I'm Aakarsh and I'm from San Diego. Freshm...</td>\n",
       "      <td>sp23</td>\n",
       "      <td>male</td>\n",
       "      <td>HeyImAakarshandImfromSanDiegoFreshmanstudyingE...</td>\n",
       "    </tr>\n",
       "    <tr>\n",
       "      <th>1</th>\n",
       "      <td>Aarnav Sanghvi</td>\n",
       "      <td>he/him/his</td>\n",
       "      <td>Yo what's up! I'm Aarnav a first year EECS stu...</td>\n",
       "      <td>sp23</td>\n",
       "      <td>male</td>\n",
       "      <td>YowhatsupImAarnavafirstyearEECSstudentfromtheB...</td>\n",
       "    </tr>\n",
       "    <tr>\n",
       "      <th>2</th>\n",
       "      <td>Aaron Ha</td>\n",
       "      <td>he/him/his</td>\n",
       "      <td>Hi! I'm Aaron an intended CS major from South ...</td>\n",
       "      <td>sp23</td>\n",
       "      <td>male</td>\n",
       "      <td>HiImAaronanintendedCSmajorfromSouthKoreaItsmyf...</td>\n",
       "    </tr>\n",
       "    <tr>\n",
       "      <th>3</th>\n",
       "      <td>Aaryan Chandna</td>\n",
       "      <td>he/him/his</td>\n",
       "      <td>Hi! I'm Aaryan a freshman from the Detroit Are...</td>\n",
       "      <td>sp23</td>\n",
       "      <td>male</td>\n",
       "      <td>HiImAaryanafreshmanfromtheDetroitAreastudyingE...</td>\n",
       "    </tr>\n",
       "    <tr>\n",
       "      <th>4</th>\n",
       "      <td>Abtin Khashayar</td>\n",
       "      <td>he/him/his</td>\n",
       "      <td>Hello! My name is Abtin and I am a freshman fr...</td>\n",
       "      <td>sp23</td>\n",
       "      <td>male</td>\n",
       "      <td>HelloMynameisAbtinandIamafreshmanfromSanJosest...</td>\n",
       "    </tr>\n",
       "  </tbody>\n",
       "</table>\n",
       "</div>"
      ],
      "text/plain": [
       "              name     pronoun   \n",
       "0  Aakarsh Vermani  he/him/his  \\\n",
       "1   Aarnav Sanghvi  he/him/his   \n",
       "2         Aaron Ha  he/him/his   \n",
       "3   Aaryan Chandna  he/him/his   \n",
       "4  Abtin Khashayar  he/him/his   \n",
       "\n",
       "                                                 bio semester gender   \n",
       "0  Hey I'm Aakarsh and I'm from San Diego. Freshm...     sp23   male  \\\n",
       "1  Yo what's up! I'm Aarnav a first year EECS stu...     sp23   male   \n",
       "2  Hi! I'm Aaron an intended CS major from South ...     sp23   male   \n",
       "3  Hi! I'm Aaryan a freshman from the Detroit Are...     sp23   male   \n",
       "4  Hello! My name is Abtin and I am a freshman fr...     sp23   male   \n",
       "\n",
       "                                           clean_bio  \n",
       "0  HeyImAakarshandImfromSanDiegoFreshmanstudyingE...  \n",
       "1  YowhatsupImAarnavafirstyearEECSstudentfromtheB...  \n",
       "2  HiImAaronanintendedCSmajorfromSouthKoreaItsmyf...  \n",
       "3  HiImAaryanafreshmanfromtheDetroitAreastudyingE...  \n",
       "4  HelloMynameisAbtinandIamafreshmanfromSanJosest...  "
      ]
     },
     "execution_count": 21,
     "metadata": {},
     "output_type": "execute_result"
    }
   ],
   "source": [
    "# pattern of characters to remove in bio\n",
    "remove_pattern = \"[\\s.,'!?;:()-]\"\n",
    "\n",
    "# perform removal\n",
    "ai_61a_df['clean_bio'] = ai_61a_df['bio'].str.replace(remove_pattern, '', regex=True)\n",
    "ai_61a_df.head(5)"
   ]
  },
  {
   "attachments": {},
   "cell_type": "markdown",
   "metadata": {},
   "source": [
    "Unfortunately the removal is not complete. AIs are young people, and many of them use emojis and innovative other what-nots that I'm too boomer to keep up with. Thus, it is inevitable that there will be a little bit of character bloat. Nonetheless, I do believe that my removal pattern is comprehensive enough that the bloat retained is minimal, so I will continue to proceed."
   ]
  },
  {
   "attachments": {},
   "cell_type": "markdown",
   "metadata": {},
   "source": [
    "Finally, the most important part of the project; determine the percentage of uppercase letters; lowercase can found in a similar way, and since I'm dealing with percentage, might as well get the total character count as well.\n",
    "\n",
    "To start, I create the following three features that will be used to help me determine percentage composition\n",
    "\n",
    "1. `letter_count`: num letters in the clean bio\n",
    "2. `uppercase_count`: num uppercase letters in the clean bio\n",
    "3. `lowercase_count`: num lowercase letters in the clean bio"
   ]
  },
  {
   "cell_type": "code",
   "execution_count": 22,
   "metadata": {},
   "outputs": [
    {
     "data": {
      "text/html": [
       "<div>\n",
       "<style scoped>\n",
       "    .dataframe tbody tr th:only-of-type {\n",
       "        vertical-align: middle;\n",
       "    }\n",
       "\n",
       "    .dataframe tbody tr th {\n",
       "        vertical-align: top;\n",
       "    }\n",
       "\n",
       "    .dataframe thead th {\n",
       "        text-align: right;\n",
       "    }\n",
       "</style>\n",
       "<table border=\"1\" class=\"dataframe\">\n",
       "  <thead>\n",
       "    <tr style=\"text-align: right;\">\n",
       "      <th></th>\n",
       "      <th>clean_bio</th>\n",
       "      <th>letter_count</th>\n",
       "      <th>uppercase_count</th>\n",
       "      <th>lowercase_count</th>\n",
       "    </tr>\n",
       "  </thead>\n",
       "  <tbody>\n",
       "    <tr>\n",
       "      <th>0</th>\n",
       "      <td>HeyImAakarshandImfromSanDiegoFreshmanstudyingE...</td>\n",
       "      <td>222</td>\n",
       "      <td>14</td>\n",
       "      <td>205</td>\n",
       "    </tr>\n",
       "    <tr>\n",
       "      <th>1</th>\n",
       "      <td>YowhatsupImAarnavafirstyearEECSstudentfromtheB...</td>\n",
       "      <td>174</td>\n",
       "      <td>12</td>\n",
       "      <td>160</td>\n",
       "    </tr>\n",
       "    <tr>\n",
       "      <th>2</th>\n",
       "      <td>HiImAaronanintendedCSmajorfromSouthKoreaItsmyf...</td>\n",
       "      <td>134</td>\n",
       "      <td>15</td>\n",
       "      <td>117</td>\n",
       "    </tr>\n",
       "    <tr>\n",
       "      <th>3</th>\n",
       "      <td>HiImAaryanafreshmanfromtheDetroitAreastudyingE...</td>\n",
       "      <td>117</td>\n",
       "      <td>11</td>\n",
       "      <td>106</td>\n",
       "    </tr>\n",
       "    <tr>\n",
       "      <th>4</th>\n",
       "      <td>HelloMynameisAbtinandIamafreshmanfromSanJosest...</td>\n",
       "      <td>143</td>\n",
       "      <td>11</td>\n",
       "      <td>132</td>\n",
       "    </tr>\n",
       "  </tbody>\n",
       "</table>\n",
       "</div>"
      ],
      "text/plain": [
       "                                           clean_bio  letter_count   \n",
       "0  HeyImAakarshandImfromSanDiegoFreshmanstudyingE...           222  \\\n",
       "1  YowhatsupImAarnavafirstyearEECSstudentfromtheB...           174   \n",
       "2  HiImAaronanintendedCSmajorfromSouthKoreaItsmyf...           134   \n",
       "3  HiImAaryanafreshmanfromtheDetroitAreastudyingE...           117   \n",
       "4  HelloMynameisAbtinandIamafreshmanfromSanJosest...           143   \n",
       "\n",
       "   uppercase_count  lowercase_count  \n",
       "0               14              205  \n",
       "1               12              160  \n",
       "2               15              117  \n",
       "3               11              106  \n",
       "4               11              132  "
      ]
     },
     "execution_count": 22,
     "metadata": {},
     "output_type": "execute_result"
    }
   ],
   "source": [
    "# append feature #1\n",
    "# this is essentially treating `clean_bio` as a String and calling `str.len` to get the length\n",
    "ai_61a_df['letter_count'] = ai_61a_df['clean_bio'].apply(lambda clean_bio: len(str(clean_bio)))\n",
    "\n",
    "# append feature #2\n",
    "# this is a pretty complicated function, but I use the pandas.Series.apply function\n",
    "# and then create a lambda function that takes in the column `clean_bio`\n",
    "# which gets converted into a String, and as a String, I loop through it in a list comprehension, creating  \n",
    "# a list that contains the value 1 if a letter is upper and 0 othwerise; the list gets summed up at the end\n",
    "# essentially becoming a count for uppercase letters.\n",
    "ai_61a_df['uppercase_count'] = ai_61a_df['clean_bio'].apply(lambda clean_bio: sum([1 if letter.isupper() else 0 for letter in str(clean_bio)]))\n",
    "\n",
    "# append feature #3\n",
    "# essentially the same as above but uses `str.islower` instead of `str.isupper``\n",
    "ai_61a_df['lowercase_count'] = ai_61a_df['clean_bio'].apply(lambda clean_bio: sum([1 if letter.islower() else 0 for letter in str(clean_bio)]))\n",
    "\n",
    "# project `clean_bio` and new features as a check\n",
    "ai_61a_df[['clean_bio', 'letter_count', 'uppercase_count', 'lowercase_count']].head()\n"
   ]
  },
  {
   "attachments": {},
   "cell_type": "markdown",
   "metadata": {},
   "source": [
    "Notice that it is not necessarily the case that `letter_count` $=$ `uppercase_count` $+$ `lowercase_count`. This is unsurprising; I mentioned the removal pattern was not comprehensive, and this is fine.\n",
    "\n",
    "With these three features, I can easily compute the *letter case percentage composition:\n",
    "\n",
    "* `lowercase_percentage` $=$ `lowercase_count` $/$ `letter_count`\n",
    "* `uppercase_percentage` $=$ `uppercase_count` $/$ `letter_count`"
   ]
  },
  {
   "cell_type": "code",
   "execution_count": 23,
   "metadata": {},
   "outputs": [
    {
     "data": {
      "text/html": [
       "<div>\n",
       "<style scoped>\n",
       "    .dataframe tbody tr th:only-of-type {\n",
       "        vertical-align: middle;\n",
       "    }\n",
       "\n",
       "    .dataframe tbody tr th {\n",
       "        vertical-align: top;\n",
       "    }\n",
       "\n",
       "    .dataframe thead th {\n",
       "        text-align: right;\n",
       "    }\n",
       "</style>\n",
       "<table border=\"1\" class=\"dataframe\">\n",
       "  <thead>\n",
       "    <tr style=\"text-align: right;\">\n",
       "      <th></th>\n",
       "      <th>gender</th>\n",
       "      <th>clean_bio</th>\n",
       "      <th>lowercase_percentage</th>\n",
       "      <th>uppercase_percentage</th>\n",
       "    </tr>\n",
       "  </thead>\n",
       "  <tbody>\n",
       "    <tr>\n",
       "      <th>0</th>\n",
       "      <td>male</td>\n",
       "      <td>HeyImAakarshandImfromSanDiegoFreshmanstudyingE...</td>\n",
       "      <td>92.342342</td>\n",
       "      <td>6.306306</td>\n",
       "    </tr>\n",
       "    <tr>\n",
       "      <th>1</th>\n",
       "      <td>male</td>\n",
       "      <td>YowhatsupImAarnavafirstyearEECSstudentfromtheB...</td>\n",
       "      <td>91.954023</td>\n",
       "      <td>6.896552</td>\n",
       "    </tr>\n",
       "    <tr>\n",
       "      <th>2</th>\n",
       "      <td>male</td>\n",
       "      <td>HiImAaronanintendedCSmajorfromSouthKoreaItsmyf...</td>\n",
       "      <td>87.313433</td>\n",
       "      <td>11.194030</td>\n",
       "    </tr>\n",
       "    <tr>\n",
       "      <th>3</th>\n",
       "      <td>male</td>\n",
       "      <td>HiImAaryanafreshmanfromtheDetroitAreastudyingE...</td>\n",
       "      <td>90.598291</td>\n",
       "      <td>9.401709</td>\n",
       "    </tr>\n",
       "    <tr>\n",
       "      <th>4</th>\n",
       "      <td>male</td>\n",
       "      <td>HelloMynameisAbtinandIamafreshmanfromSanJosest...</td>\n",
       "      <td>92.307692</td>\n",
       "      <td>7.692308</td>\n",
       "    </tr>\n",
       "  </tbody>\n",
       "</table>\n",
       "</div>"
      ],
      "text/plain": [
       "  gender                                          clean_bio   \n",
       "0   male  HeyImAakarshandImfromSanDiegoFreshmanstudyingE...  \\\n",
       "1   male  YowhatsupImAarnavafirstyearEECSstudentfromtheB...   \n",
       "2   male  HiImAaronanintendedCSmajorfromSouthKoreaItsmyf...   \n",
       "3   male  HiImAaryanafreshmanfromtheDetroitAreastudyingE...   \n",
       "4   male  HelloMynameisAbtinandIamafreshmanfromSanJosest...   \n",
       "\n",
       "   lowercase_percentage  uppercase_percentage  \n",
       "0             92.342342              6.306306  \n",
       "1             91.954023              6.896552  \n",
       "2             87.313433             11.194030  \n",
       "3             90.598291              9.401709  \n",
       "4             92.307692              7.692308  "
      ]
     },
     "execution_count": 23,
     "metadata": {},
     "output_type": "execute_result"
    }
   ],
   "source": [
    "# append lowercase_percentage\n",
    "ai_61a_df['lowercase_percentage'] = ai_61a_df['lowercase_count']/ai_61a_df['letter_count']*100\n",
    "\n",
    "# append uppercase_percentage\n",
    "ai_61a_df['uppercase_percentage'] = ai_61a_df['uppercase_count']/ai_61a_df['letter_count']*100\n",
    "\n",
    "# project `clean_bio`, `gender`, and new features as a check\n",
    "ai_61a_df[['gender', 'clean_bio', 'lowercase_percentage', 'uppercase_percentage']].head()"
   ]
  },
  {
   "attachments": {},
   "cell_type": "markdown",
   "metadata": {},
   "source": [
    "Alright. The moment of truth. Time to see the distribution of `uppercase_percentage` grouped by `gender`. In the following cell, I implement a Python function that helps me visualize with a histogram the distribution density of a binary group."
   ]
  },
  {
   "cell_type": "code",
   "execution_count": 24,
   "metadata": {},
   "outputs": [],
   "source": [
    "# Function that takes in a pandas DataFrame `df`\n",
    "# `\n",
    "def density_hist_gender(df, percentage_column):\n",
    "\n",
    "    # extrapolate male data\n",
    "    male_percentage_series = df[df['gender']=='male'][percentage_column]\n",
    "    # extrapolate female data\n",
    "    female_percentage_series = df[df['gender']=='female'][percentage_column]\n",
    "\n",
    "    # plot overlaid density histograms\n",
    "    plt.hist(male_percentage_series, color='blue', label='male', density=True, alpha=0.5)\n",
    "    plt.hist(female_percentage_series, color='red', label='female', density=True, alpha=0.5)\n",
    "    # plot formatting\n",
    "    plt.title('Density Distribution of Male and Female LCPC for {}'.format(percentage_column))\n",
    "    plt.ylabel('Density')\n",
    "    plt.xlabel('Percentage Composition of {}'.format(percentage_column))\n",
    "    plt.legend()\n",
    "    plt.show()"
   ]
  },
  {
   "cell_type": "code",
   "execution_count": 25,
   "metadata": {},
   "outputs": [
    {
     "data": {
      "image/png": "[encoded data removed]",
      "text/plain": [
       "<Figure size 640x480 with 1 Axes>"
      ]
     },
     "metadata": {},
     "output_type": "display_data"
    }
   ],
   "source": [
    "# call density_hist_gender on uppercase_percentage\n",
    "density_hist_gender(ai_61a_df, 'uppercase_percentage')"
   ]
  },
  {
   "attachments": {},
   "cell_type": "markdown",
   "metadata": {},
   "source": [
    "**AS EXPECTED**. The distribution for male AIs is clearly further to the right of that of female AIs, and seems to be mostly unimodal with a peak at around $7\\%$. It can be clearly observed that the distribution of female AIs is bimodal, with a peak at around $6\\%$, which is less than that of male AI's $7\\%$ **and** another peak near $0\\%$. This means that female AIs are more likely to have a *lower* uppercase percentage, which means, on average, they use uppercase letters less frequently than male AIs.\n",
    "\n",
    "Out of curiousity, let's see what the distribution looks like when looking at `lowercase_percentage`:"
   ]
  },
  {
   "cell_type": "code",
   "execution_count": 26,
   "metadata": {},
   "outputs": [
    {
     "data": {
      "image/png": "[encoded data removed]",
      "text/plain": [
       "<Figure size 640x480 with 1 Axes>"
      ]
     },
     "metadata": {},
     "output_type": "display_data"
    }
   ],
   "source": [
    "# call density_hist_gender on lowercase_percentage\n",
    "density_hist_gender(ai_61a_df, 'lowercase_percentage')"
   ]
  },
  {
   "attachments": {},
   "cell_type": "markdown",
   "metadata": {},
   "source": [
    "This tells a similar story, but is probably less conclusive. Looking at the male AI distribution, there seems to be a higher chance for the lowercase_percentage to be close to $100\\%$ than female AIs. **But**, the intense peak for the distribution of female AIs cannot be ignored, the peak is much more significant than that of male AIs, and it seems to be centered around $90\\%$. So even if males are more likely to be near $100\\%$, females are more likely to belong in that upper $90\\% - 100\\%$ range."
   ]
  },
  {
   "attachments": {},
   "cell_type": "markdown",
   "metadata": {},
   "source": [
    "Lastly, I want to compare summary statistics of male vs female AI LCPC, or their `uppercase_percentage` and `lowercase_percentage`. I will simply use `df.describe` to accomplish that:"
   ]
  },
  {
   "cell_type": "code",
   "execution_count": 27,
   "metadata": {},
   "outputs": [
    {
     "name": "stdout",
     "output_type": "stream",
     "text": [
      "Male AI Summary Statistics:\n",
      "       uppercase_percentage  lowercase_percentage\n",
      "count            388.000000            388.000000\n",
      "mean               6.375238             92.145090\n",
      "std                3.839752              8.057140\n",
      "min                0.000000              0.000000\n",
      "25%                4.686281             90.506979\n",
      "50%                6.595259             92.577288\n",
      "75%                8.453810             94.657640\n",
      "max               28.571429            100.000000\n",
      "--------------------------\n",
      "Female AI Summary Statistics:\n",
      "       uppercase_percentage  lowercase_percentage\n",
      "count            230.000000            230.000000\n",
      "mean               5.699156             93.067518\n",
      "std                3.610631              4.384842\n",
      "min                0.000000             72.063492\n",
      "25%                4.033648             90.843186\n",
      "50%                5.882353             93.220622\n",
      "75%                7.748477             95.141007\n",
      "max               23.076923            100.000000\n"
     ]
    }
   ],
   "source": [
    "# summary statistics for male AI LCPC\n",
    "print('Male AI Summary Statistics:')\n",
    "male_summary_stats = ai_61a_df[ai_61a_df['gender']=='male'][['uppercase_percentage', 'lowercase_percentage']].describe()\n",
    "print(male_summary_stats, end='\\n--------------------------\\n')\n",
    "\n",
    "# summary statistics for female AI LCPC\n",
    "print('Female AI Summary Statistics:')\n",
    "female_summary_stats = ai_61a_df[ai_61a_df['gender']=='female'][['uppercase_percentage', 'lowercase_percentage']].describe()\n",
    "print(female_summary_stats)"
   ]
  },
  {
   "attachments": {},
   "cell_type": "markdown",
   "metadata": {},
   "source": [
    "As one can observe, the mean, max, and **all of the quartiles**, meaning the $25th$ percentile, median, and $75th$ percentile for `uppercase_percentage` for female AIs are *lower* than that of their male counterpart, which supports the shape of the density histograms displayed. And in the same vein, the `lowercase_percentage` for female AIs are *higher* than their male counterpart.\n",
    "\n",
    "I do want to point out the existence of a $0.0$ `min`. I think this may be due to empty bios, which definitely exist.\n"
   ]
  },
  {
   "attachments": {},
   "cell_type": "markdown",
   "metadata": {},
   "source": [
    "## Hypothesis Testing - A/B Test"
   ]
  },
  {
   "attachments": {},
   "cell_type": "markdown",
   "metadata": {},
   "source": [
    "At first, I didn't even consider hypothesis testing. It wasn't until that I brought up my findings above to one of my friends that, yes, hypothesis testing *can be done*. A test statistic could just be male `uppercase_percentage ` $-$ female `uppercase_percentage`. And `gender` is a binary label! These satisfy all the requirements for an A/B test.\n",
    "\n",
    "So to start, I define my hypotheses as such: \n",
    "\n",
    "**Null Hypothesis:** In CS61A, distribution of female AI `uppercase_percentage` is the same as male AI `uppercase_percentage`. Any differences in the sample is simply due to chance.\n",
    "\n",
    "**Alternative Hypothesis:** In CS61A, the distribution of female AI `uppercase_percentage` is on average *lower* than male AI `uppercase_percentage`.\n",
    "\n",
    "For my test statistic, I will be using the difference between the two group's `uppercase_percentage` average/mean, specifically male AI `uppercase_percentage` mean *minus* female AI `uppercase_percentage` mean. This means that larger values will favor the alternative hypothesis. A naive $\\alpha=0.05$ will be used as the $p$-value cutoff.\n",
    "\n",
    "To start, I compute the observed value of the test statistic."
   ]
  },
  {
   "cell_type": "code",
   "execution_count": 28,
   "metadata": {},
   "outputs": [
    {
     "name": "stdout",
     "output_type": "stream",
     "text": [
      "Male AI uppercase percentage mean:   6.3752\n",
      "Female AI uppercase percentage mean: 5.6992\n",
      "Observered Difference:               0.6761\n"
     ]
    }
   ],
   "source": [
    "# Extrapolate uppercase percentage means from summary stats \n",
    "male_uppercase_percentage_mean = male_summary_stats['uppercase_percentage']['mean']\n",
    "female_uppercase_percentage_mean = female_summary_stats['uppercase_percentage']['mean']\n",
    "# Display\n",
    "print('Male AI uppercase percentage mean: {:8.4f}'.format(male_uppercase_percentage_mean))\n",
    "print('Female AI uppercase percentage mean: {:.4f}'.format(female_uppercase_percentage_mean))\n",
    "\n",
    "obs_diff = male_uppercase_percentage_mean - female_uppercase_percentage_mean\n",
    "print('Observered Difference: {:20.4f}'.format(obs_diff))"
   ]
  },
  {
   "attachments": {},
   "cell_type": "markdown",
   "metadata": {},
   "source": [
    "The observed test statistic, or the difference in `uppercase_percentage` means between female AIs and male AIs in that order, is around $0.68$.\n",
    "\n",
    "Next, I implement a Python function that performs the A/B test. I essentially copy and pasted this function from [another project](https://github.com/dnhuang/sf-tri-city-restaurants/blob/main/analysis.ipynb) that I worked on, but made some modificiations to suit this project specifically."
   ]
  },
  {
   "cell_type": "code",
   "execution_count": 29,
   "metadata": {},
   "outputs": [],
   "source": [
    "# Function that performs the A/B test.\n",
    "# Takes in the DataFrame, the name of the column to be averaged, the binary label to group by,\n",
    "# the observed difference, and a naive alpha value (p-value cutoff).\n",
    "# Plots the distribution density of the average differences, concludes whether or not to reject\n",
    "# the null hypotheseis, and returns the empirical p-value.\n",
    "def ab_test(df, col, group, rep, obs_diff, alpha):\n",
    "\n",
    "    # Helper function for ONE simulation of the hypothesis test\n",
    "    def simulate_test(df, group):\n",
    "        # Shuffle labels, must sample with WITHOUT replacement\n",
    "        new_labels = df.sample(len(df), replace=False).reset_index()[group]\n",
    "        # Project desired columns and add shuffled labels\n",
    "        sample_df = df[[col]] # projection\n",
    "        sample_df['shuffled_label'] = new_labels\n",
    "        # Get averages of the two groups (0th value is regular restaurants, 1st is chain)\n",
    "        sample_df_series = sample_df.groupby('shuffled_label').mean()\n",
    "        # test statistic is defined as male - female\n",
    "        sample_diff = sample_df_series[col][1] - sample_df[col][0] # 1st: male, 0th: female\n",
    "        return sample_diff\n",
    "    \n",
    "    # Use helper function to compute test statistic. Repeat for rep repetitions\n",
    "    test_statistic_list = np.array([])\n",
    "    for _ in np.arange(rep):\n",
    "        sim_test_statistic = simulate_test(df, group)\n",
    "        test_statistic_list = np.append(test_statistic_list, sim_test_statistic)\n",
    "    \n",
    "    empirical_p = np.count_nonzero(test_statistic_list >= obs_diff)/ rep\n",
    "\n",
    "    # Plot the distribution density of the average differences\n",
    "    plt.hist(test_statistic_list, density=True)\n",
    "    plt.grid()\n",
    "    plt.scatter(obs_diff, 0.02, color='red')\n",
    "    plt.title('Density Distribution of Average Differences Under the Null')\n",
    "    plt.xlabel('Average Difference')\n",
    "    plt.ylabel('Average Difference Density')\n",
    "\n",
    "    # Print conclusions\n",
    "    print('Simulation under the Null with {} repetitions'.format(rep))\n",
    "    print(\"With observed difference={:.4f}, naive \\u03B1={}, and empirical p-value={},\".format(obs_diff, alpha, empirical_p))\n",
    "    print(\"we {} the null hypothesis\".format(\"FAIL TO REJECT\" if empirical_p > alpha else \"REJECT\"))\n",
    "    return empirical_p"
   ]
  },
  {
   "attachments": {},
   "cell_type": "markdown",
   "metadata": {},
   "source": [
    "With `ab_test` implemented, I now perform the A/B test:"
   ]
  },
  {
   "cell_type": "code",
   "execution_count": 30,
   "metadata": {},
   "outputs": [
    {
     "name": "stdout",
     "output_type": "stream",
     "text": [
      "Simulation under the Null with 5000 repetitions\n",
      "With observed difference=0.6761, naive α=0.05, and empirical p-value=0.0,\n",
      "we REJECT the null hypothesis\n"
     ]
    },
    {
     "data": {
      "image/png": "[encoded data removed]",
      "text/plain": [
       "<Figure size 640x480 with 1 Axes>"
      ]
     },
     "metadata": {},
     "output_type": "display_data"
    }
   ],
   "source": [
    "# Suppress SwettingwithCopyWarning\n",
    "pd.set_option('mode.chained_assignment', None)\n",
    "\n",
    "# Perform the A/B test\n",
    "empirical_p = ab_test(ai_61a_df, 'uppercase_percentage', 'gender', 5000, obs_diff, 0.05)"
   ]
  },
  {
   "attachments": {},
   "cell_type": "markdown",
   "metadata": {},
   "source": [
    "Reiterating again the parameters of my A/B test. With a naive $\\alpha=0.05$, our $p$-value cutoff, and by simulating $5000$ repetitions under the null hypothesis, I obtained a $p$-value of $0.0$, and the computation is supported by the histogram. The histogram is centered around $-0.2$ and mostly unimodal. Despite its spread, we can see that our observed value of the test statistic, the red dot, is very far off to the right.\n",
    "\n",
    "Finally, since my empirical $p$-value is **less** than my $\\alpha=0.05$, I reject the null hypothesis and lean towards the alternative, meaning my test supports the hypothesis that in CS61A, the distribution of female AI `uppercase_percentage` is on average *lower* than male AI `uppercase_percentage`.\n",
    "\n",
    "Now, can the results of these findings be generalized to the overall population? Definitely not, the AIs of CS61A at UC Berkeley are by no means representative of the entire populuation, but I don't think that means the evidence presented here is pointless. I had to start somewhere and with my current knowledge, there's only so little data I can actually curate or scrape. At the very least, for me personally, I think this project has given me a tiny bit of reinforcement in my observations."
   ]
  },
  {
   "attachments": {},
   "cell_type": "markdown",
   "metadata": {},
   "source": [
    "## Conclusion"
   ]
  },
  {
   "attachments": {},
   "cell_type": "markdown",
   "metadata": {},
   "source": [
    "This isn't a lab report nor a school assignment, so I don't want to meet some dumb wordcount or length.\n",
    "\n",
    "To conclude, the evidence that I have presented seems to favor the alternative hypothesis. Although the methods and testing done in this project is far from official in any capacity, I think with the way I preprocessed, wrangled, and transformed the data is valid, and I have explained my reasoning thoroughly throughout each step.\n",
    "\n",
    "With all that said, I think I will stick to my theory.\n",
    "\n",
    "Girls are more likely to use lowercase letters in their messages to give off that soft, cute e-girl doki doki uwu vibe."
   ]
  }
 ],
 "metadata": {
  "kernelspec": {
   "display_name": "Python 3",
   "language": "python",
   "name": "python3"
  },
  "language_info": {
   "codemirror_mode": {
    "name": "ipython",
    "version": 3
   },
   "file_extension": ".py",
   "mimetype": "text/x-python",
   "name": "python",
   "nbconvert_exporter": "python",
   "pygments_lexer": "ipython3",
   "version": "3.11.3"
  },
  "orig_nbformat": 4
 },
 "nbformat": 4,
 "nbformat_minor": 2
}
